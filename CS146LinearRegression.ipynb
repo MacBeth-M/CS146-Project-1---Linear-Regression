{
 "cells": [
  {
   "cell_type": "markdown",
   "metadata": {},
   "source": [
    "<div align = 'center'> Project 1 - Linear Regression and Model Comparison (LBA) \n",
    "    \n",
    "<div align = 'center'> Macbeth K. Matibe\n",
    "    \n",
    "<div align = 'center'> Minerva University\n",
    "    \n",
    "<div align = 'center'> CS146: Computational Methods for Bayesian Statistics\n",
    "    \n",
    "<div align = 'center'> Prof. Volkan\n",
    "    \n",
    "<div align = 'center'> October 21, 2023"
   ]
  },
  {
   "cell_type": "markdown",
   "metadata": {},
   "source": [
    "## Executive Summary"
   ]
  },
  {
   "cell_type": "markdown",
   "metadata": {},
   "source": [
    "executive summary  goes here"
   ]
  },
  {
   "cell_type": "markdown",
   "metadata": {},
   "source": [
    "## The Dataset"
   ]
  },
  {
   "cell_type": "markdown",
   "metadata": {},
   "source": [
    "data source --> https://archive.ics.uci.edu/dataset/477/real+estate+valuation+data+set \n",
    "\n",
    "\n",
    "Real estate valuation data set. (2018). UCI Machine Learning Repository. https://doi.org/10.24432/C5J30W. "
   ]
  },
  {
   "cell_type": "markdown",
   "metadata": {},
   "source": [
    "## Loading the Data and importing necessary Libraries"
   ]
  },
  {
   "cell_type": "code",
   "execution_count": 1,
   "metadata": {},
   "outputs": [
    {
     "name": "stderr",
     "output_type": "stream",
     "text": [
      "WARNING (pytensor.configdefaults): g++ not detected!  PyTensor will be unable to compile C-implementations and will default to Python. Performance may be severely degraded. To remove this warning, set PyTensor flags cxx to an empty string.\n",
      "WARNING (pytensor.tensor.blas): Using NumPy C-API based implementation for BLAS functions.\n"
     ]
    },
    {
     "name": "stdout",
     "output_type": "stream",
     "text": [
      "This is the Real Estate data\n"
     ]
    },
    {
     "data": {
      "text/html": [
       "<div>\n",
       "<style scoped>\n",
       "    .dataframe tbody tr th:only-of-type {\n",
       "        vertical-align: middle;\n",
       "    }\n",
       "\n",
       "    .dataframe tbody tr th {\n",
       "        vertical-align: top;\n",
       "    }\n",
       "\n",
       "    .dataframe thead th {\n",
       "        text-align: right;\n",
       "    }\n",
       "</style>\n",
       "<table border=\"1\" class=\"dataframe\">\n",
       "  <thead>\n",
       "    <tr style=\"text-align: right;\">\n",
       "      <th></th>\n",
       "      <th>No</th>\n",
       "      <th>X1 transaction date</th>\n",
       "      <th>X2 house age</th>\n",
       "      <th>X3 distance to the nearest MRT station</th>\n",
       "      <th>X4 number of convenience stores</th>\n",
       "      <th>X5 latitude</th>\n",
       "      <th>X6 longitude</th>\n",
       "      <th>Y house price of unit area</th>\n",
       "    </tr>\n",
       "  </thead>\n",
       "  <tbody>\n",
       "    <tr>\n",
       "      <th>0</th>\n",
       "      <td>1</td>\n",
       "      <td>2012.917</td>\n",
       "      <td>32.0</td>\n",
       "      <td>84.87882</td>\n",
       "      <td>10</td>\n",
       "      <td>24.98298</td>\n",
       "      <td>121.54024</td>\n",
       "      <td>37.9</td>\n",
       "    </tr>\n",
       "    <tr>\n",
       "      <th>1</th>\n",
       "      <td>2</td>\n",
       "      <td>2012.917</td>\n",
       "      <td>19.5</td>\n",
       "      <td>306.59470</td>\n",
       "      <td>9</td>\n",
       "      <td>24.98034</td>\n",
       "      <td>121.53951</td>\n",
       "      <td>42.2</td>\n",
       "    </tr>\n",
       "    <tr>\n",
       "      <th>2</th>\n",
       "      <td>3</td>\n",
       "      <td>2013.583</td>\n",
       "      <td>13.3</td>\n",
       "      <td>561.98450</td>\n",
       "      <td>5</td>\n",
       "      <td>24.98746</td>\n",
       "      <td>121.54391</td>\n",
       "      <td>47.3</td>\n",
       "    </tr>\n",
       "    <tr>\n",
       "      <th>3</th>\n",
       "      <td>4</td>\n",
       "      <td>2013.500</td>\n",
       "      <td>13.3</td>\n",
       "      <td>561.98450</td>\n",
       "      <td>5</td>\n",
       "      <td>24.98746</td>\n",
       "      <td>121.54391</td>\n",
       "      <td>54.8</td>\n",
       "    </tr>\n",
       "    <tr>\n",
       "      <th>4</th>\n",
       "      <td>5</td>\n",
       "      <td>2012.833</td>\n",
       "      <td>5.0</td>\n",
       "      <td>390.56840</td>\n",
       "      <td>5</td>\n",
       "      <td>24.97937</td>\n",
       "      <td>121.54245</td>\n",
       "      <td>43.1</td>\n",
       "    </tr>\n",
       "  </tbody>\n",
       "</table>\n",
       "</div>"
      ],
      "text/plain": [
       "   No  X1 transaction date  X2 house age  \\\n",
       "0   1             2012.917          32.0   \n",
       "1   2             2012.917          19.5   \n",
       "2   3             2013.583          13.3   \n",
       "3   4             2013.500          13.3   \n",
       "4   5             2012.833           5.0   \n",
       "\n",
       "   X3 distance to the nearest MRT station  X4 number of convenience stores  \\\n",
       "0                                84.87882                               10   \n",
       "1                               306.59470                                9   \n",
       "2                               561.98450                                5   \n",
       "3                               561.98450                                5   \n",
       "4                               390.56840                                5   \n",
       "\n",
       "   X5 latitude  X6 longitude  Y house price of unit area  \n",
       "0     24.98298     121.54024                        37.9  \n",
       "1     24.98034     121.53951                        42.2  \n",
       "2     24.98746     121.54391                        47.3  \n",
       "3     24.98746     121.54391                        54.8  \n",
       "4     24.97937     121.54245                        43.1  "
      ]
     },
     "execution_count": 1,
     "metadata": {},
     "output_type": "execute_result"
    }
   ],
   "source": [
    "# Import the necessary libraries\n",
    "import arviz as az\n",
    "import matplotlib.pyplot as plt\n",
    "import numpy as np\n",
    "import pandas as pd\n",
    "import pymc as pm\n",
    "import scipy.stats as sts\n",
    "\n",
    "# Several warnings print out about performance so adding this to remove them.\n",
    "import pytensor\n",
    "\n",
    "\n",
    "# Load the data from the CSV file\n",
    "real_estate = pd.read_csv('Real estate.csv', encoding = \"utf-8\")\n",
    "print('This is the Real Estate data')\n",
    "real_estate = real_estate[real_estate['Y house price of unit area'] <= 100]\n",
    "real_estate.head()"
   ]
  },
  {
   "cell_type": "markdown",
   "metadata": {},
   "source": [
    "## Data Visualization (Scatter Plots of House Price of Unit Area vs Each Independent Variable)"
   ]
  },
  {
   "cell_type": "code",
   "execution_count": null,
   "metadata": {},
   "outputs": [],
   "source": [
    "# List of columns to plot against 'house price'\n",
    "except_col = {'Y house price of unit area', 'No'}\n",
    "columns_to_plot = [col for col in real_estate.columns if col not in except_col]\n",
    "\n",
    "for col in columns_to_plot:\n",
    "    plt.figure(figsize = (8, 6))  \n",
    "    plt.scatter(real_estate['Y house price of unit area'], real_estate[col], alpha = 0.5)\n",
    "    plt.title(f'Scatter plot of {col} vs. House Unit Price')\n",
    "    plt.ylabel(col)\n",
    "    plt.xlabel('Y house price of unit area')\n",
    "    plt.show()"
   ]
  },
  {
   "cell_type": "markdown",
   "metadata": {},
   "source": [
    "## Model 1: "
   ]
  },
  {
   "cell_type": "markdown",
   "metadata": {},
   "source": [
    "Discuss Model 1 here"
   ]
  },
  {
   "cell_type": "code",
   "execution_count": 4,
   "metadata": {},
   "outputs": [
    {
     "name": "stderr",
     "output_type": "stream",
     "text": [
      "Auto-assigning NUTS sampler...\n",
      "Initializing NUTS using jitter+adapt_diag...\n",
      "Multiprocess sampling (2 chains in 4 jobs)\n",
      "NUTS: [a, b, sigma]\n",
      "WARNING (pytensor.configdefaults): g++ not detected!  PyTensor will be unable to compile C-implementations and will default to Python. Performance may be severely degraded. To remove this warning, set PyTensor flags cxx to an empty string.\n",
      "WARNING (pytensor.tensor.blas): Using NumPy C-API based implementation for BLAS functions.\n",
      "WARNING (pytensor.configdefaults): g++ not detected!  PyTensor will be unable to compile C-implementations and will default to Python. Performance may be severely degraded. To remove this warning, set PyTensor flags cxx to an empty string.\n",
      "WARNING (pytensor.tensor.blas): Using NumPy C-API based implementation for BLAS functions.\n"
     ]
    },
    {
     "data": {
      "text/html": [
       "\n",
       "<style>\n",
       "    /* Turns off some styling */\n",
       "    progress {\n",
       "        /* gets rid of default border in Firefox and Opera. */\n",
       "        border: none;\n",
       "        /* Needs to be in here for Safari polyfill so background images work as expected. */\n",
       "        background-size: auto;\n",
       "    }\n",
       "    progress:not([value]), progress:not([value])::-webkit-progress-bar {\n",
       "        background: repeating-linear-gradient(45deg, #7e7e7e, #7e7e7e 10px, #5c5c5c 10px, #5c5c5c 20px);\n",
       "    }\n",
       "    .progress-bar-interrupted, .progress-bar-interrupted::-webkit-progress-bar {\n",
       "        background: #F44336;\n",
       "    }\n",
       "</style>\n"
      ],
      "text/plain": [
       "<IPython.core.display.HTML object>"
      ]
     },
     "metadata": {},
     "output_type": "display_data"
    },
    {
     "data": {
      "text/html": [
       "\n",
       "    <div>\n",
       "      <progress value='4000' class='' max='4000' style='width:300px; height:20px; vertical-align: middle;'></progress>\n",
       "      100.00% [4000/4000 11:26&lt;00:00 Sampling 2 chains, 0 divergences]\n",
       "    </div>\n",
       "    "
      ],
      "text/plain": [
       "<IPython.core.display.HTML object>"
      ]
     },
     "metadata": {},
     "output_type": "display_data"
    },
    {
     "name": "stderr",
     "output_type": "stream",
     "text": [
      "Sampling 2 chains for 1_000 tune and 1_000 draw iterations (2_000 + 2_000 draws total) took 696 seconds.\n",
      "We recommend running at least 4 chains for robust computation of convergence diagnostics\n"
     ]
    },
    {
     "data": {
      "text/html": [
       "<div>\n",
       "<style scoped>\n",
       "    .dataframe tbody tr th:only-of-type {\n",
       "        vertical-align: middle;\n",
       "    }\n",
       "\n",
       "    .dataframe tbody tr th {\n",
       "        vertical-align: top;\n",
       "    }\n",
       "\n",
       "    .dataframe thead th {\n",
       "        text-align: right;\n",
       "    }\n",
       "</style>\n",
       "<table border=\"1\" class=\"dataframe\">\n",
       "  <thead>\n",
       "    <tr style=\"text-align: right;\">\n",
       "      <th></th>\n",
       "      <th>mean</th>\n",
       "      <th>sd</th>\n",
       "      <th>hdi_3%</th>\n",
       "      <th>hdi_97%</th>\n",
       "      <th>mcse_mean</th>\n",
       "      <th>mcse_sd</th>\n",
       "      <th>ess_bulk</th>\n",
       "      <th>ess_tail</th>\n",
       "      <th>r_hat</th>\n",
       "    </tr>\n",
       "  </thead>\n",
       "  <tbody>\n",
       "    <tr>\n",
       "      <th>a</th>\n",
       "      <td>45.549</td>\n",
       "      <td>0.631</td>\n",
       "      <td>44.436</td>\n",
       "      <td>46.744</td>\n",
       "      <td>0.019</td>\n",
       "      <td>0.014</td>\n",
       "      <td>1076.0</td>\n",
       "      <td>945.0</td>\n",
       "      <td>1.0</td>\n",
       "    </tr>\n",
       "    <tr>\n",
       "      <th>b</th>\n",
       "      <td>-0.007</td>\n",
       "      <td>0.000</td>\n",
       "      <td>-0.008</td>\n",
       "      <td>-0.006</td>\n",
       "      <td>0.000</td>\n",
       "      <td>0.000</td>\n",
       "      <td>1088.0</td>\n",
       "      <td>1114.0</td>\n",
       "      <td>1.0</td>\n",
       "    </tr>\n",
       "    <tr>\n",
       "      <th>sigma</th>\n",
       "      <td>9.438</td>\n",
       "      <td>0.335</td>\n",
       "      <td>8.810</td>\n",
       "      <td>10.043</td>\n",
       "      <td>0.008</td>\n",
       "      <td>0.006</td>\n",
       "      <td>1639.0</td>\n",
       "      <td>1220.0</td>\n",
       "      <td>1.0</td>\n",
       "    </tr>\n",
       "  </tbody>\n",
       "</table>\n",
       "</div>"
      ],
      "text/plain": [
       "         mean     sd  hdi_3%  hdi_97%  mcse_mean  mcse_sd  ess_bulk  ess_tail  \\\n",
       "a      45.549  0.631  44.436   46.744      0.019    0.014    1076.0     945.0   \n",
       "b      -0.007  0.000  -0.008   -0.006      0.000    0.000    1088.0    1114.0   \n",
       "sigma   9.438  0.335   8.810   10.043      0.008    0.006    1639.0    1220.0   \n",
       "\n",
       "       r_hat  \n",
       "a        1.0  \n",
       "b        1.0  \n",
       "sigma    1.0  "
      ]
     },
     "execution_count": 4,
     "metadata": {},
     "output_type": "execute_result"
    }
   ],
   "source": [
    "# Linear Model with Normal Likelihood:\n",
    "with pm.Model() as linear_model:\n",
    "    # Priors\n",
    "    a = pm.Normal('a', mu = 0, sigma = 100)\n",
    "    b = pm.Normal('b', mu = 0, sigma = 10)\n",
    "    sigma = pm.Uniform('sigma', 0, 30)\n",
    "    \n",
    "    # Function\n",
    "    mu = a + b* real_estate['X3 distance to the nearest MRT station']\n",
    "    \n",
    "    # Likelihood \n",
    "    unit_price = pm.Normal('unit_price', mu = mu, sigma = sigma, \n",
    "                           observed = real_estate['Y house price of unit area'])\n",
    "    \n",
    "    # Sampling\n",
    "    linear_trace = pm.sample(tune = 1000, draws = 1000, chains = 2)\n",
    "    \n",
    "# results\n",
    "az.summary(linear_trace, var_names = ['a', 'b', 'sigma'])\n"
   ]
  },
  {
   "cell_type": "markdown",
   "metadata": {},
   "source": [
    "#### Checking the Sampler"
   ]
  },
  {
   "cell_type": "code",
   "execution_count": null,
   "metadata": {},
   "outputs": [],
   "source": []
  },
  {
   "cell_type": "code",
   "execution_count": null,
   "metadata": {},
   "outputs": [],
   "source": []
  },
  {
   "cell_type": "markdown",
   "metadata": {},
   "source": [
    "interpret rank plots, trace plots and interpret the values of r_hat and ESS, basically the az summary table here"
   ]
  },
  {
   "cell_type": "markdown",
   "metadata": {},
   "source": [
    "### Visualizing the Model fit (Normal Likelihood)"
   ]
  },
  {
   "cell_type": "code",
   "execution_count": 10,
   "metadata": {},
   "outputs": [
    {
     "data": {
      "image/png": "[encoded data removed]",
      "text/plain": [
       "<Figure size 1000x700 with 1 Axes>"
      ]
     },
     "metadata": {},
     "output_type": "display_data"
    }
   ],
   "source": [
    "# Compute mean values for alpha and beta\n",
    "a_samples = linear_trace.posterior[\"a\"].values\n",
    "b_samples = linear_trace.posterior[\"b\"].values\n",
    "\n",
    "a_mean = a_samples.mean()\n",
    "b_mean = b_samples.mean()\n",
    "\n",
    "# Generate predicted values using the mean parameter estimates\n",
    "x_vals = np.linspace(min(real_estate['X3 distance to the nearest MRT station']), \n",
    "                     max(real_estate['X3 distance to the nearest MRT station']), 100)\n",
    "y_vals_linear = a_mean + b_mean * x_vals\n",
    "\n",
    "# Plot the data with line of best fit\n",
    "plt.figure(figsize=(10, 8))\n",
    "plt.scatter(real_estate['X3 distance to the nearest MRT station'], \n",
    "            real_estate['Y house price of unit area'], \n",
    "            c = 'blue', label = 'Data')\n",
    "plt.plot(x_vals, y_vals_linear, c = 'red', label = 'Line of best Fit')\n",
    "plt.title('Linear Model: Distance to nearest Metro Station vs House Unit Price')\n",
    "plt.xlabel('X3 distance to the nearest MRT station')\n",
    "plt.ylabel('Y house price of unit area')\n",
    "plt.legend()\n",
    "plt.show()"
   ]
  },
  {
   "cell_type": "markdown",
   "metadata": {},
   "source": [
    "## Model 2: "
   ]
  },
  {
   "cell_type": "markdown",
   "metadata": {},
   "source": [
    "Discuss Model 2 here"
   ]
  },
  {
   "cell_type": "code",
   "execution_count": 13,
   "metadata": {},
   "outputs": [
    {
     "name": "stderr",
     "output_type": "stream",
     "text": [
      "Auto-assigning NUTS sampler...\n",
      "Initializing NUTS using jitter+adapt_diag...\n",
      "Multiprocess sampling (2 chains in 4 jobs)\n",
      "NUTS: [a, b, nu, sigma]\n",
      "WARNING (pytensor.configdefaults): g++ not detected!  PyTensor will be unable to compile C-implementations and will default to Python. Performance may be severely degraded. To remove this warning, set PyTensor flags cxx to an empty string.\n",
      "WARNING (pytensor.tensor.blas): Using NumPy C-API based implementation for BLAS functions.\n",
      "WARNING (pytensor.configdefaults): g++ not detected!  PyTensor will be unable to compile C-implementations and will default to Python. Performance may be severely degraded. To remove this warning, set PyTensor flags cxx to an empty string.\n",
      "WARNING (pytensor.tensor.blas): Using NumPy C-API based implementation for BLAS functions.\n"
     ]
    },
    {
     "data": {
      "text/html": [
       "\n",
       "<style>\n",
       "    /* Turns off some styling */\n",
       "    progress {\n",
       "        /* gets rid of default border in Firefox and Opera. */\n",
       "        border: none;\n",
       "        /* Needs to be in here for Safari polyfill so background images work as expected. */\n",
       "        background-size: auto;\n",
       "    }\n",
       "    progress:not([value]), progress:not([value])::-webkit-progress-bar {\n",
       "        background: repeating-linear-gradient(45deg, #7e7e7e, #7e7e7e 10px, #5c5c5c 10px, #5c5c5c 20px);\n",
       "    }\n",
       "    .progress-bar-interrupted, .progress-bar-interrupted::-webkit-progress-bar {\n",
       "        background: #F44336;\n",
       "    }\n",
       "</style>\n"
      ],
      "text/plain": [
       "<IPython.core.display.HTML object>"
      ]
     },
     "metadata": {},
     "output_type": "display_data"
    },
    {
     "data": {
      "text/html": [
       "\n",
       "    <div>\n",
       "      <progress value='4000' class='' max='4000' style='width:300px; height:20px; vertical-align: middle;'></progress>\n",
       "      100.00% [4000/4000 37:48&lt;00:00 Sampling 2 chains, 0 divergences]\n",
       "    </div>\n",
       "    "
      ],
      "text/plain": [
       "<IPython.core.display.HTML object>"
      ]
     },
     "metadata": {},
     "output_type": "display_data"
    },
    {
     "name": "stderr",
     "output_type": "stream",
     "text": [
      "Sampling 2 chains for 1_000 tune and 1_000 draw iterations (2_000 + 2_000 draws total) took 2278 seconds.\n",
      "We recommend running at least 4 chains for robust computation of convergence diagnostics\n"
     ]
    }
   ],
   "source": [
    "# Robust Linear Model with Student T likelihood\n",
    "with pm.Model() as robust_linear_model:\n",
    "    # Priors\n",
    "    a = pm.Normal('a', mu = 0, sigma = 100)\n",
    "    b = pm.Normal('b', mu = 0, sigma = 10)\n",
    "    nu = pm.Exponential('nu', 1/30) + 1  # degrees of freedom for Student's T\n",
    "    sigma = pm.Uniform('sigma', 0, 30)\n",
    "    \n",
    "    # Function\n",
    "    mu = a + b * real_estate['X3 distance to the nearest MRT station']\n",
    "    \n",
    "    # Likelihood using Student's T\n",
    "    unit_price = pm.StudentT('unit_price', mu = mu, nu = nu, sigma = sigma, \n",
    "                             observed = real_estate['Y house price of unit area'])\n",
    "    \n",
    "    # Sampling\n",
    "    robust_linear_trace = pm.sample(tune = 1000, draws = 1000, chains = 2)\n"
   ]
  },
  {
   "cell_type": "markdown",
   "metadata": {},
   "source": [
    "#### Checking the Sampler"
   ]
  },
  {
   "cell_type": "code",
   "execution_count": null,
   "metadata": {},
   "outputs": [],
   "source": []
  },
  {
   "cell_type": "code",
   "execution_count": null,
   "metadata": {},
   "outputs": [],
   "source": []
  },
  {
   "cell_type": "markdown",
   "metadata": {},
   "source": [
    "interpret rank plots, trace plots and interpret the values of r_hat and ESS, basically the az summary table here"
   ]
  },
  {
   "cell_type": "markdown",
   "metadata": {},
   "source": [
    "### Visualizing the Model fit (Student T Likelihood)"
   ]
  },
  {
   "cell_type": "code",
   "execution_count": 14,
   "metadata": {},
   "outputs": [
    {
     "data": {
      "image/png": "[encoded data removed]",
      "text/plain": [
       "<Figure size 1000x700 with 1 Axes>"
      ]
     },
     "metadata": {},
     "output_type": "display_data"
    }
   ],
   "source": [
    "# Compute mean values for alpha and beta\n",
    "a2_samples = robust_linear_trace.posterior['a'].values\n",
    "b2_samples = robust_linear_trace.posterior['b'].values\n",
    "\n",
    "a2_mean = a2_samples.mean()\n",
    "b2_mean = b2_samples.mean()\n",
    "\n",
    "# Generate predicted values using the mean parameter estimates\n",
    "x_vals2 = np.linspace(min(real_estate['X3 distance to the nearest MRT station']), \n",
    "                     max(real_estate['X3 distance to the nearest MRT station']), 100)\n",
    "y_vals_robust = a2_mean + b2_mean * x_vals2\n",
    "\n",
    "# Plot the data with the line of best fit\n",
    "plt.figure(figsize=(10, 7))\n",
    "plt.scatter(real_estate['X3 distance to the nearest MRT station'], \n",
    "            real_estate['Y house price of unit area'], \n",
    "            c='blue', label='Data')\n",
    "plt.plot(x_vals, y_vals_robust, c='red', label='Robust Fit (Student\\'s T)')\n",
    "plt.title('Robust Linear Model')\n",
    "plt.xlabel('X3 distance to the nearest MRT station')\n",
    "plt.ylabel('Y house price of unit area')\n",
    "plt.legend()\n",
    "plt.show()"
   ]
  },
  {
   "cell_type": "markdown",
   "metadata": {},
   "source": [
    "interpret the resulsts here or say smth about the model"
   ]
  },
  {
   "cell_type": "code",
   "execution_count": 16,
   "metadata": {},
   "outputs": [
    {
     "name": "stderr",
     "output_type": "stream",
     "text": [
      "Auto-assigning NUTS sampler...\n",
      "Initializing NUTS using jitter+adapt_diag...\n",
      "Multiprocess sampling (2 chains in 4 jobs)\n",
      "NUTS: [a, b, c, nu, sigma]\n",
      "WARNING (pytensor.configdefaults): g++ not detected!  PyTensor will be unable to compile C-implementations and will default to Python. Performance may be severely degraded. To remove this warning, set PyTensor flags cxx to an empty string.\n",
      "WARNING (pytensor.tensor.blas): Using NumPy C-API based implementation for BLAS functions.\n",
      "WARNING (pytensor.configdefaults): g++ not detected!  PyTensor will be unable to compile C-implementations and will default to Python. Performance may be severely degraded. To remove this warning, set PyTensor flags cxx to an empty string.\n",
      "WARNING (pytensor.tensor.blas): Using NumPy C-API based implementation for BLAS functions.\n"
     ]
    },
    {
     "data": {
      "text/html": [
       "\n",
       "<style>\n",
       "    /* Turns off some styling */\n",
       "    progress {\n",
       "        /* gets rid of default border in Firefox and Opera. */\n",
       "        border: none;\n",
       "        /* Needs to be in here for Safari polyfill so background images work as expected. */\n",
       "        background-size: auto;\n",
       "    }\n",
       "    progress:not([value]), progress:not([value])::-webkit-progress-bar {\n",
       "        background: repeating-linear-gradient(45deg, #7e7e7e, #7e7e7e 10px, #5c5c5c 10px, #5c5c5c 20px);\n",
       "    }\n",
       "    .progress-bar-interrupted, .progress-bar-interrupted::-webkit-progress-bar {\n",
       "        background: #F44336;\n",
       "    }\n",
       "</style>\n"
      ],
      "text/plain": [
       "<IPython.core.display.HTML object>"
      ]
     },
     "metadata": {},
     "output_type": "display_data"
    },
    {
     "data": {
      "text/html": [
       "\n",
       "    <div>\n",
       "      <progress value='579' class='' max='4000' style='width:300px; height:20px; vertical-align: middle;'></progress>\n",
       "      14.47% [579/4000 1:04:27&lt;6:20:52 Sampling 2 chains, 0 divergences]\n",
       "    </div>\n",
       "    "
      ],
      "text/plain": [
       "<IPython.core.display.HTML object>"
      ]
     },
     "metadata": {},
     "output_type": "display_data"
    },
    {
     "ename": "ValueError",
     "evalue": "Not enough samples to build a trace.",
     "output_type": "error",
     "traceback": [
      "\u001b[0;31m---------------------------------------------------------------------------\u001b[0m",
      "\u001b[0;31mValueError\u001b[0m                                Traceback (most recent call last)",
      "\u001b[1;32m/Users/macbethmatibe/Desktop/CS146 Project 1 - Linear Regression/CS146LinearRegression.ipynb Cell 29\u001b[0m line \u001b[0;36m1\n\u001b[1;32m     <a href='vscode-notebook-cell:/Users/macbethmatibe/Desktop/CS146%20Project%201%20-%20Linear%20Regression/CS146LinearRegression.ipynb#X65sZmlsZQ%3D%3D?line=13'>14</a>\u001b[0m unit_price \u001b[39m=\u001b[39m pm\u001b[39m.\u001b[39mStudentT(\u001b[39m'\u001b[39m\u001b[39munit_price\u001b[39m\u001b[39m'\u001b[39m, mu\u001b[39m=\u001b[39mmu, nu\u001b[39m=\u001b[39mnu, sigma\u001b[39m=\u001b[39msigma, \n\u001b[1;32m     <a href='vscode-notebook-cell:/Users/macbethmatibe/Desktop/CS146%20Project%201%20-%20Linear%20Regression/CS146LinearRegression.ipynb#X65sZmlsZQ%3D%3D?line=14'>15</a>\u001b[0m                       observed\u001b[39m=\u001b[39mreal_estate[\u001b[39m'\u001b[39m\u001b[39mY house price of unit area\u001b[39m\u001b[39m'\u001b[39m])\n\u001b[1;32m     <a href='vscode-notebook-cell:/Users/macbethmatibe/Desktop/CS146%20Project%201%20-%20Linear%20Regression/CS146LinearRegression.ipynb#X65sZmlsZQ%3D%3D?line=16'>17</a>\u001b[0m \u001b[39m# Sampling\u001b[39;00m\n\u001b[0;32m---> <a href='vscode-notebook-cell:/Users/macbethmatibe/Desktop/CS146%20Project%201%20-%20Linear%20Regression/CS146LinearRegression.ipynb#X65sZmlsZQ%3D%3D?line=17'>18</a>\u001b[0m robust_quadratic_trace \u001b[39m=\u001b[39m pm\u001b[39m.\u001b[39;49msample(tune\u001b[39m=\u001b[39;49m\u001b[39m1000\u001b[39;49m, draws\u001b[39m=\u001b[39;49m\u001b[39m1000\u001b[39;49m, chains\u001b[39m=\u001b[39;49m\u001b[39m2\u001b[39;49m)\n",
      "File \u001b[0;32m~/opt/anaconda3/lib/python3.8/site-packages/pymc/sampling/mcmc.py:791\u001b[0m, in \u001b[0;36msample\u001b[0;34m(draws, tune, chains, cores, random_seed, progressbar, step, nuts_sampler, initvals, init, jitter_max_retries, n_init, trace, discard_tuned_samples, compute_convergence_checks, keep_warning_stat, return_inferencedata, idata_kwargs, nuts_sampler_kwargs, callback, mp_ctx, model, **kwargs)\u001b[0m\n\u001b[1;32m    787\u001b[0m t_sampling \u001b[39m=\u001b[39m time\u001b[39m.\u001b[39mtime() \u001b[39m-\u001b[39m t_start\n\u001b[1;32m    789\u001b[0m \u001b[39m# Packaging, validating and returning the result was extracted\u001b[39;00m\n\u001b[1;32m    790\u001b[0m \u001b[39m# into a function to make it easier to test and refactor.\u001b[39;00m\n\u001b[0;32m--> 791\u001b[0m \u001b[39mreturn\u001b[39;00m _sample_return(\n\u001b[1;32m    792\u001b[0m     run\u001b[39m=\u001b[39;49mrun,\n\u001b[1;32m    793\u001b[0m     traces\u001b[39m=\u001b[39;49mtraces,\n\u001b[1;32m    794\u001b[0m     tune\u001b[39m=\u001b[39;49mtune,\n\u001b[1;32m    795\u001b[0m     t_sampling\u001b[39m=\u001b[39;49mt_sampling,\n\u001b[1;32m    796\u001b[0m     discard_tuned_samples\u001b[39m=\u001b[39;49mdiscard_tuned_samples,\n\u001b[1;32m    797\u001b[0m     compute_convergence_checks\u001b[39m=\u001b[39;49mcompute_convergence_checks,\n\u001b[1;32m    798\u001b[0m     return_inferencedata\u001b[39m=\u001b[39;49mreturn_inferencedata,\n\u001b[1;32m    799\u001b[0m     keep_warning_stat\u001b[39m=\u001b[39;49mkeep_warning_stat,\n\u001b[1;32m    800\u001b[0m     idata_kwargs\u001b[39m=\u001b[39;49midata_kwargs \u001b[39mor\u001b[39;49;00m {},\n\u001b[1;32m    801\u001b[0m     model\u001b[39m=\u001b[39;49mmodel,\n\u001b[1;32m    802\u001b[0m )\n",
      "File \u001b[0;32m~/opt/anaconda3/lib/python3.8/site-packages/pymc/sampling/mcmc.py:822\u001b[0m, in \u001b[0;36m_sample_return\u001b[0;34m(run, traces, tune, t_sampling, discard_tuned_samples, compute_convergence_checks, return_inferencedata, keep_warning_stat, idata_kwargs, model)\u001b[0m\n\u001b[1;32m    820\u001b[0m \u001b[39m# Pick and slice chains to keep the maximum number of samples\u001b[39;00m\n\u001b[1;32m    821\u001b[0m \u001b[39mif\u001b[39;00m discard_tuned_samples:\n\u001b[0;32m--> 822\u001b[0m     traces, length \u001b[39m=\u001b[39m _choose_chains(traces, tune)\n\u001b[1;32m    823\u001b[0m \u001b[39melse\u001b[39;00m:\n\u001b[1;32m    824\u001b[0m     traces, length \u001b[39m=\u001b[39m _choose_chains(traces, \u001b[39m0\u001b[39m)\n",
      "File \u001b[0;32m~/opt/anaconda3/lib/python3.8/site-packages/pymc/backends/base.py:601\u001b[0m, in \u001b[0;36m_choose_chains\u001b[0;34m(traces, tune)\u001b[0m\n\u001b[1;32m    599\u001b[0m lengths \u001b[39m=\u001b[39m [\u001b[39mmax\u001b[39m(\u001b[39m0\u001b[39m, \u001b[39mlen\u001b[39m(trace) \u001b[39m-\u001b[39m tune) \u001b[39mfor\u001b[39;00m trace \u001b[39min\u001b[39;00m traces]\n\u001b[1;32m    600\u001b[0m \u001b[39mif\u001b[39;00m \u001b[39mnot\u001b[39;00m \u001b[39msum\u001b[39m(lengths):\n\u001b[0;32m--> 601\u001b[0m     \u001b[39mraise\u001b[39;00m \u001b[39mValueError\u001b[39;00m(\u001b[39m\"\u001b[39m\u001b[39mNot enough samples to build a trace.\u001b[39m\u001b[39m\"\u001b[39m)\n\u001b[1;32m    603\u001b[0m idxs \u001b[39m=\u001b[39m np\u001b[39m.\u001b[39margsort(lengths)\n\u001b[1;32m    604\u001b[0m l_sort \u001b[39m=\u001b[39m np\u001b[39m.\u001b[39marray(lengths)[idxs]\n",
      "\u001b[0;31mValueError\u001b[0m: Not enough samples to build a trace."
     ]
    }
   ],
   "source": [
    "# Robust Quadratic Model using Student's T distribution\n",
    "with pm.Model() as robust_quadratic_model:\n",
    "    # Priors\n",
    "    a = pm.Normal('a', mu=0, sigma=100)\n",
    "    b = pm.Normal('b', mu=0, sigma=10)\n",
    "    c = pm.Normal('c', mu=0, sigma=10)  # quadratic term coefficient\n",
    "    nu = pm.Exponential('nu', 1/30) + 1  # degrees of freedom for Student's T\n",
    "    sigma = pm.Uniform('sigma', 0, 30)\n",
    "    \n",
    "    # Quadratic function\n",
    "    mu = a + b * real_estate['X3 distance to the nearest MRT station'] + c * real_estate['X3 distance to the nearest MRT station']**2\n",
    "    \n",
    "    # Robust likelihood using Student's T distribution\n",
    "    unit_price = pm.StudentT('unit_price', mu=mu, nu=nu, sigma=sigma, \n",
    "                          observed=real_estate['Y house price of unit area'])\n",
    "    \n",
    "    # Sampling\n",
    "    robust_quadratic_trace = pm.sample(tune=1000, draws=1000, chains=2)\n"
   ]
  },
  {
   "cell_type": "code",
   "execution_count": null,
   "metadata": {},
   "outputs": [],
   "source": [
    "# Compute mean values for the parameters\n",
    "a3_samples = robust_quadratic_trace.posterior['a'].values\n",
    "b3_samples = robust_quadratic_trace.posterior['b'].values\n",
    "c3_samples = robust_quadratic_trace.posterior['c'].values\n",
    "\n",
    "a3_mean = a3_samples.mean()\n",
    "b3_mean = b3_samples.mean()\n",
    "c3_mean = c3_samples.mean()\n",
    "\n",
    "# Generate predicted values using the mean parameter estimates\n",
    "x_vals3 = np.linspace(min(real_estate['X3 distance to the nearest MRT station']), \n",
    "                     max(real_estate['X3 distance to the nearest MRT station']), 100)\n",
    "y_vals_robust_quadratic = a3_mean + b3_mean * x_vals3 + c3_mean * x_vals3**2\n",
    "\n",
    "# Plot the data with the line of best fit\n",
    "plt.figure(figsize=(10, 7))\n",
    "plt.scatter(real_estate['X3 distance to the nearest MRT station'], \n",
    "            real_estate['tax_revenue'], \n",
    "            c='blue', label='Data')\n",
    "plt.plot(x_vals, y_vals_robust_quadratic, c='red', label='Robust Quadratic Fit (Student\\'s T)')\n",
    "plt.title('Robust Quadratic Model')\n",
    "plt.xlabel('X3 distance to the nearest MRT station')\n",
    "plt.ylabel('Y house price of unit area')\n",
    "plt.legend()\n",
    "plt.show()"
   ]
  },
  {
   "cell_type": "markdown",
   "metadata": {},
   "source": [
    "## Model 3: Outlier Detection Likelihood "
   ]
  },
  {
   "cell_type": "markdown",
   "metadata": {},
   "source": [
    "Discuss model 3 here"
   ]
  },
  {
   "cell_type": "code",
   "execution_count": null,
   "metadata": {},
   "outputs": [],
   "source": []
  },
  {
   "cell_type": "code",
   "execution_count": null,
   "metadata": {},
   "outputs": [],
   "source": []
  },
  {
   "cell_type": "markdown",
   "metadata": {},
   "source": [
    "## Comparison of the 3 Models: PSIS leave-one-out cross-validation"
   ]
  },
  {
   "cell_type": "markdown",
   "metadata": {},
   "source": [
    "Discuss what you are going to do to compare the three models"
   ]
  },
  {
   "cell_type": "code",
   "execution_count": null,
   "metadata": {},
   "outputs": [],
   "source": []
  },
  {
   "cell_type": "code",
   "execution_count": null,
   "metadata": {},
   "outputs": [],
   "source": []
  },
  {
   "cell_type": "markdown",
   "metadata": {},
   "source": [
    "## References"
   ]
  },
  {
   "cell_type": "markdown",
   "metadata": {},
   "source": [
    "references go here"
   ]
  },
  {
   "cell_type": "markdown",
   "metadata": {},
   "source": [
    "#### AI Policy Statement\n",
    "\n",
    "Your Statement Goes Here"
   ]
  }
 ],
 "metadata": {
  "kernelspec": {
   "display_name": "base",
   "language": "python",
   "name": "python3"
  },
  "language_info": {
   "codemirror_mode": {
    "name": "ipython",
    "version": 3
   },
   "file_extension": ".py",
   "mimetype": "text/x-python",
   "name": "python",
   "nbconvert_exporter": "python",
   "pygments_lexer": "ipython3",
   "version": "3.8.8"
  }
 },
 "nbformat": 4,
 "nbformat_minor": 2
}
