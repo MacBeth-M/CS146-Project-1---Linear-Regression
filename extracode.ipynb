{
 "cells": [
  {
   "cell_type": "code",
   "execution_count": null,
   "metadata": {},
   "outputs": [],
   "source": [
    "np.random.seed(2971)\n",
    "\n",
    "N = 100  # 100 lines\n",
    "a = stats.norm.rvs(loc=178, scale=20, size=N)\n",
    "b = stats.norm.rvs(loc=0, scale=10, size=N)"
   ]
  },
  {
   "cell_type": "code",
   "execution_count": null,
   "metadata": {},
   "outputs": [],
   "source": [
    "_, ax = plt.subplots(1, 2, figsize=(12, 6))\n",
    "\n",
    "ax[0].set_xlim(unit_price.min(), unit_price.max())\n",
    "ax[0].set_ylim(-100, 400)\n",
    "ax[0].set_xlabel('unit_price')\n",
    "ax[0].set_ylabel('mrt_distance')\n",
    "#ax[0].axhline(0, c=\"k\", ls=\"--\")\n",
    "#ax[0].axhline(272, c=\"k\")\n",
    "ax[0].set_title(\"b ~ Normal(0,10²)\")\n",
    "xbar = unit_price.mean()\n",
    "x = np.array([unit_price.min(), unit_price.max()])\n",
    "for i in range(N):\n",
    "    ax[0].plot(x, a[i] + b[i] * (x - xbar), \"k\", alpha=0.2)\n",
    "\n",
    "b = stats.lognorm.rvs(s=1, scale=1, size=100)\n",
    "\n",
    "ax[1].set_xlim(unit_price.min(), unit_price.max())\n",
    "ax[1].set_ylim(-100, 400)\n",
    "ax[1].set_xlabel('unit_price')\n",
    "ax[0].set_ylabel('mrt_distance')\n",
    "#ax[1].axhline(0, c=\"k\", ls=\"--\", label=\"embryo\")\n",
    "#ax[1].axhline(272, c=\"k\")\n",
    "ax[1].set_title(\"log(b) ~ Normal(0,10²)\")\n",
    "#ax[1].text(x=35, y=282, s=\"World's tallest person (272cm)\")\n",
    "#ax[1].text(x=35, y=-25, s=\"Embryo\");\n",
    "for i in range(N):\n",
    "    ax[1].plot(x, a[i] + b[i] * (x - xbar), \"k\", alpha=0.2)"
   ]
  },
  {
   "cell_type": "code",
   "execution_count": null,
   "metadata": {},
   "outputs": [],
   "source": [
    "with pm.Model() as m4_3:\n",
    "    a = pm.Normal(\"a\", mu=178, sigma=20)\n",
    "    b = pm.Lognormal(\"b\", mu=0, sigma=1)\n",
    "    sigma = pm.Uniform(\"sigma\", 0, 50)\n",
    "    mu = a + b * (unit_price.values - xbar)\n",
    "    mrt = pm.Normal('mrt_distance', mu=mu, sigma=sigma, observed=mrt_distance.values)\n",
    "    trace_4_3 = pm.sample(1000, tune=1000)"
   ]
  },
  {
   "cell_type": "code",
   "execution_count": null,
   "metadata": {},
   "outputs": [],
   "source": [
    "# Model with the log(b) ~ Normal(0, 10) prior\n",
    "with pm.Model() as m4_3b:\n",
    "    a = pm.Normal(\"a\", mu=178, sigma=20)\n",
    "    log_b = pm.Normal(\"log_b\", mu=0, sigma=1)\n",
    "    sigma = pm.Uniform(\"sigma\", 0, 50)\n",
    "    mu = a + np.exp(log_b) * (unit_price.values - xbar)\n",
    "    mrt = pm.Normal('mrt_distance', mu=mu, sigma=sigma, observed=real_estate['X3 distance to the nearest MRT station'])\n",
    "    trace_4_3b = pm.sample(1000, tune=1000)"
   ]
  },
  {
   "cell_type": "code",
   "execution_count": null,
   "metadata": {},
   "outputs": [],
   "source": [
    "az.summary(trace_4_3, kind=\"stats\")"
   ]
  },
  {
   "cell_type": "code",
   "execution_count": null,
   "metadata": {},
   "outputs": [],
   "source": [
    "trace_4_3_df = trace_4_3.posterior.to_dataframe()\n",
    "trace_4_3_df.cov().round(3)"
   ]
  },
  {
   "cell_type": "code",
   "execution_count": null,
   "metadata": {},
   "outputs": [],
   "source": [
    "plt.scatter(unit_price, real_estate['X3 distance to the nearest MRT station'], alpha=0.5)\n",
    "plt.plot(\n",
    "    unit_price,\n",
    "    trace_4_3.posterior[\"a\"].values.mean()\n",
    "        + trace_4_3.posterior[\"b\"].values.mean() * (mrt_distance - xbar),\n",
    "    color='C1')\n",
    "plt.xlabel('unit price')\n",
    "plt.ylabel('mrt distance');"
   ]
  },
  {
   "cell_type": "code",
   "execution_count": null,
   "metadata": {},
   "outputs": [],
   "source": [
    "trace_4_3_df.head(5)"
   ]
  }
 ],
 "metadata": {
  "language_info": {
   "name": "python"
  },
  "orig_nbformat": 4
 },
 "nbformat": 4,
 "nbformat_minor": 2
}
