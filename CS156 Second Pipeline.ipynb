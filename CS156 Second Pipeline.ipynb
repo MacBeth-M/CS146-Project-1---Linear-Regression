{
 "cells": [
  {
   "cell_type": "markdown",
   "id": "900b50e5",
   "metadata": {},
   "source": [
    "<div align = 'center'> Second Pipeline: \n",
    "    \n",
    "<div align = 'center'> Macbeth K. Matibe\n",
    "    \n",
    "<div align = 'center'> Minerva University\n",
    "    \n",
    "<div align = 'center'> CS156: Finding Patterns in Data with Machine Learning\n",
    "    \n",
    "<div align = 'center'> Prof. Watson\n",
    "    \n",
    "<div align = 'center'> April 11, 2023"
   ]
  },
  {
   "cell_type": "markdown",
   "id": "065bea24",
   "metadata": {},
   "source": [
    "## Motivation behind the data, what's the story here?"
   ]
  },
  {
   "cell_type": "markdown",
   "id": "cbb808ba",
   "metadata": {},
   "source": [
    "In the first pipeline, I classified data from just my mom and dad. But just imagine, what if I could classify every incoming text within my entire phonebook? Or just from close family and friends, in a bid to not sound too ambitious. What if I could build a completely secure fraud protection mechanism? Well, that would require a lot of work, but there is a saying in Swahili that goes, \"Haba haba hujaza kibaba.\" I don't know the exact accurate translation, but it roughly means, \"Little by little fills the measure.\" The closest English proverb is \"Slow and steady wins the race.\" So I added a few more people to my text database. My friends, Irynn and Rasugu, my partner Lee and my grandma. This provides a variety of data summing up to 6 different labels to try and classify. \n",
    "\n",
    "\n",
    "So, while I can't build a whole model to protect unsuspecting Kenyans against fraudulent attacks by Mpesa and mobile banking fraudsters, I can add a little more data from my friends and other family members, like my grandma, who might be especially susceptible to fraud, seeing as she dislikes everything technology-related. In addition, we can try another model to classify the different authors of each text.\n",
    "\n",
    "\n",
    "In the first pipeline, I used the Naive Bayes classifier, which performed pretty well in classifying texts from my mom and dad. Can it perform equally well for extended data with more targets? Will the new model, which I will keep as a surprise for now, perform better? Will one be faster than the other? Remember, we need a model that is not only accurate but also pretty quick. In my future world, a model that can quickly scan a text and change the font color to red if we suspect it is from a fraudster thus prompting the receiver to take precautionary measures such as calling the sender to confirm that they wrote the message that could involve asking for sensitive information or money or forwarding the fraudelent caller's number to the relevant authorities. "
   ]
  },
  {
   "cell_type": "markdown",
   "id": "4870a6e7",
   "metadata": {},
   "source": [
    "## Explaining the data & Ethics"
   ]
  },
  {
   "cell_type": "markdown",
   "id": "e609cfb4",
   "metadata": {},
   "source": [
    "One point of concern was data privacy, so I talked to everyone involved beforehand and obtained their consent to use their texts in my assignment, provided that I omitted sensitive information.\n",
    "\n",
    "The data collection process involved exporting all their chats into PDF files and copying them to a Google Sheets spreadsheet. Each exported chat had its own spreadsheet. However, while working on this pipeline, I realized that using ChatGPT to extract the data and remove the rows that had messages from me was quite hectic, and I actually went through a lot of unnecessary trouble the last time to use AI to clean the data for me. In addition, for some reason, ChatGPT kept returning made-up texts, which could greatly affect the accuracy scores for the model."
   ]
  },
  {
   "cell_type": "markdown",
   "id": "e8974277",
   "metadata": {},
   "source": [
    "## Loading the Data to Python"
   ]
  },
  {
   "cell_type": "markdown",
   "id": "27eb51b0",
   "metadata": {},
   "source": [
    "To use the data in Python, I downloaded the spreadsheets as .csv files, which I loaded into Python using the Pandas library as a Pandas DataFrame (Matibe, 2023). Since I didn't clean the data before loading it into Python, my data was a jumbled mess of timestamps, sender labels in the text column, and messages from me, as shown below from one of the .csv files. The only clean data was the original spreadsheet used in the First Pipeline that contained texts from my mom and dad. We can't use the data like this :( Additionally, all the data was in different CSV files, and therefore part of loading them into Python involved combining them into one DataFrame and shuffling the data to make it stochastic and prevent feeding the model with a chronological order of the texts (Matibe, 2023)."
   ]
  },
  {
   "cell_type": "code",
   "execution_count": 43,
   "id": "ff808875",
   "metadata": {},
   "outputs": [
    {
     "data": {
      "text/html": [
       "<div>\n",
       "<style scoped>\n",
       "    .dataframe tbody tr th:only-of-type {\n",
       "        vertical-align: middle;\n",
       "    }\n",
       "\n",
       "    .dataframe tbody tr th {\n",
       "        vertical-align: top;\n",
       "    }\n",
       "\n",
       "    .dataframe thead th {\n",
       "        text-align: right;\n",
       "    }\n",
       "</style>\n",
       "<table border=\"1\" class=\"dataframe\">\n",
       "  <thead>\n",
       "    <tr style=\"text-align: right;\">\n",
       "      <th></th>\n",
       "      <th>0</th>\n",
       "      <th>1</th>\n",
       "    </tr>\n",
       "  </thead>\n",
       "  <tbody>\n",
       "    <tr>\n",
       "      <th>0</th>\n",
       "      <td>text</td>\n",
       "      <td>label</td>\n",
       "    </tr>\n",
       "    <tr>\n",
       "      <th>1</th>\n",
       "      <td>[01/01/23, 13:59:16] MacBeth: Happy New Year G...</td>\n",
       "      <td>grandma</td>\n",
       "    </tr>\n",
       "    <tr>\n",
       "      <th>2</th>\n",
       "      <td>[01/01/23, 13:59:27] MacBeth: And HAPPY BIRTHDAY</td>\n",
       "      <td>grandma</td>\n",
       "    </tr>\n",
       "    <tr>\n",
       "      <th>3</th>\n",
       "      <td>[01/01/23, 13:59:30] MacBeth:</td>\n",
       "      <td>grandma</td>\n",
       "    </tr>\n",
       "    <tr>\n",
       "      <th>4</th>\n",
       "      <td>[01/01/23, 15:13:28] Grandma: Happy new year 2...</td>\n",
       "      <td>grandma</td>\n",
       "    </tr>\n",
       "    <tr>\n",
       "      <th>5</th>\n",
       "      <td>[01/01/23, 15:14:00] Grandma: Thanks for wishi...</td>\n",
       "      <td>grandma</td>\n",
       "    </tr>\n",
       "    <tr>\n",
       "      <th>6</th>\n",
       "      <td>[01/01/23, 15:41:27] MacBeth: ♥️♥️♥️♥️</td>\n",
       "      <td>grandma</td>\n",
       "    </tr>\n",
       "  </tbody>\n",
       "</table>\n",
       "</div>"
      ],
      "text/plain": [
       "                                                   0        1\n",
       "0                                               text    label\n",
       "1  [01/01/23, 13:59:16] MacBeth: Happy New Year G...  grandma\n",
       "2  [01/01/23, 13:59:27] MacBeth: And HAPPY BIRTHDAY   grandma\n",
       "3                     [01/01/23, 13:59:30] MacBeth:   grandma\n",
       "4  [01/01/23, 15:13:28] Grandma: Happy new year 2...  grandma\n",
       "5  [01/01/23, 15:14:00] Grandma: Thanks for wishi...  grandma\n",
       "6             [01/01/23, 15:41:27] MacBeth: ♥️♥️♥️♥️  grandma"
      ]
     },
     "execution_count": 43,
     "metadata": {},
     "output_type": "execute_result"
    }
   ],
   "source": [
    "import pandas as pd\n",
    "\n",
    "# Load the data from the 6 CSV files --> 7 labels since mom and dad are combined on 1 csv file\n",
    "mom_dad = pd.read_csv('texts_mom_dad.csv', header=None)\n",
    "grandma = pd.read_csv('grandma_texts.csv', header=None)\n",
    "Irynn = pd.read_csv('Irynn_texts.csv', header=None)\n",
    "Rasugu = pd.read_csv('Rasugu_texts.csv', header=None)\n",
    "Lee = pd.read_csv('Lee_texts.csv', header=None)\n",
    "\n",
    "grandma.head(7) # view first 7 data points of grandma's dataframe (observe the timestamps, name labels and texts from Macbeth in the mess)\n"
   ]
  },
  {
   "cell_type": "code",
   "execution_count": 44,
   "id": "5327db46",
   "metadata": {},
   "outputs": [
    {
     "name": "stdout",
     "output_type": "stream",
     "text": [
      "In this initial stage I have 1919 data points\n"
     ]
    },
    {
     "data": {
      "text/html": [
       "<div>\n",
       "<style scoped>\n",
       "    .dataframe tbody tr th:only-of-type {\n",
       "        vertical-align: middle;\n",
       "    }\n",
       "\n",
       "    .dataframe tbody tr th {\n",
       "        vertical-align: top;\n",
       "    }\n",
       "\n",
       "    .dataframe thead th {\n",
       "        text-align: right;\n",
       "    }\n",
       "</style>\n",
       "<table border=\"1\" class=\"dataframe\">\n",
       "  <thead>\n",
       "    <tr style=\"text-align: right;\">\n",
       "      <th></th>\n",
       "      <th>text</th>\n",
       "      <th>label</th>\n",
       "    </tr>\n",
       "  </thead>\n",
       "  <tbody>\n",
       "    <tr>\n",
       "      <th>0</th>\n",
       "      <td>[02/04/23, 12:24:20] MacBeth: Nimeona</td>\n",
       "      <td>Lee</td>\n",
       "    </tr>\n",
       "    <tr>\n",
       "      <th>1</th>\n",
       "      <td>[06/03/23, 23:36:02] Mummy 🖤: Sawa. Goodnight ...</td>\n",
       "      <td>mom</td>\n",
       "    </tr>\n",
       "    <tr>\n",
       "      <th>2</th>\n",
       "      <td>[30/01/23, 19:44:00] Grandma: I went to the su...</td>\n",
       "      <td>grandma</td>\n",
       "    </tr>\n",
       "    <tr>\n",
       "      <th>3</th>\n",
       "      <td>[01/04/23, 20:55:13] Lee Mwangi: Meanwhile do ...</td>\n",
       "      <td>Lee</td>\n",
       "    </tr>\n",
       "    <tr>\n",
       "      <th>4</th>\n",
       "      <td>[12/03/23, 23:44:16] MacBeth: I can read you l...</td>\n",
       "      <td>Rasugu</td>\n",
       "    </tr>\n",
       "    <tr>\n",
       "      <th>5</th>\n",
       "      <td>[01/04/23, 20:57:29] MacBeth: 🙂i will.. 🤭</td>\n",
       "      <td>Lee</td>\n",
       "    </tr>\n",
       "    <tr>\n",
       "      <th>6</th>\n",
       "      <td>‎[01/02/23, 15:30:24] Grandma: ‎image omitted</td>\n",
       "      <td>grandma</td>\n",
       "    </tr>\n",
       "    <tr>\n",
       "      <th>7</th>\n",
       "      <td>[02/04/23, 00:44:27] MacBeth: You already knew...</td>\n",
       "      <td>Lee</td>\n",
       "    </tr>\n",
       "    <tr>\n",
       "      <th>8</th>\n",
       "      <td>‎[28/02/23, 19:37:54] Mummy 🖤: ‎image omitted</td>\n",
       "      <td>mom</td>\n",
       "    </tr>\n",
       "    <tr>\n",
       "      <th>9</th>\n",
       "      <td>[05/04/23, 17:22:07] MacBeth: 😂😂 now I sound l...</td>\n",
       "      <td>Lee</td>\n",
       "    </tr>\n",
       "    <tr>\n",
       "      <th>10</th>\n",
       "      <td>[28/01/23, 21:38:05] MacBeth: Grandma</td>\n",
       "      <td>grandma</td>\n",
       "    </tr>\n",
       "  </tbody>\n",
       "</table>\n",
       "</div>"
      ],
      "text/plain": [
       "                                                 text    label\n",
       "0               [02/04/23, 12:24:20] MacBeth: Nimeona      Lee\n",
       "1   [06/03/23, 23:36:02] Mummy 🖤: Sawa. Goodnight ...      mom\n",
       "2   [30/01/23, 19:44:00] Grandma: I went to the su...  grandma\n",
       "3   [01/04/23, 20:55:13] Lee Mwangi: Meanwhile do ...      Lee\n",
       "4   [12/03/23, 23:44:16] MacBeth: I can read you l...   Rasugu\n",
       "5           [01/04/23, 20:57:29] MacBeth: 🙂i will.. 🤭      Lee\n",
       "6       ‎[01/02/23, 15:30:24] Grandma: ‎image omitted  grandma\n",
       "7   [02/04/23, 00:44:27] MacBeth: You already knew...      Lee\n",
       "8       ‎[28/02/23, 19:37:54] Mummy 🖤: ‎image omitted      mom\n",
       "9   [05/04/23, 17:22:07] MacBeth: 😂😂 now I sound l...      Lee\n",
       "10              [28/01/23, 21:38:05] MacBeth: Grandma  grandma"
      ]
     },
     "execution_count": 44,
     "metadata": {},
     "output_type": "execute_result"
    }
   ],
   "source": [
    "# Combining into 1 dataframe\n",
    "combined_data = pd.concat([mom_dad, grandma, Irynn, Rasugu, Lee], ignore_index=True)\n",
    "\n",
    "# Shuffling the data\n",
    "# Observe - Labels are mixed up, an you each label atleast once from the sampled data?\n",
    "texts_data = combined_data.sample(frac = 1, random_state = 28).reset_index(drop=True) #28 is just a lucky number, this can be changed to get a different shuffle\n",
    "texts_data.columns = ['text', 'label'] #put in the columns again\n",
    "\n",
    "print('In this initial stage I have', len(texts_data), 'data points')\n",
    "\n",
    "texts_data.head(11) # view first 10 data points of the combined, shuffled dataframe"
   ]
  },
  {
   "cell_type": "markdown",
   "id": "14cb92a5",
   "metadata": {},
   "source": [
    "## Cleaning, pre-processing, exploratory data analysis and feature engineering. "
   ]
  },
  {
   "cell_type": "markdown",
   "id": "b7523a07",
   "metadata": {},
   "source": [
    "**Cleaning and Pre-processing** \n",
    "\n",
    "\n",
    "When exporting the data from WhatsApp, it exports everything, including texts I sent, which are not needed in this classification task, since my writing style is not what we are analyzing here, but rather the authors of the various texts. Therefore, I need to remove texts that I sent. Since the sender labels are included, this makes it easy, as all I have to do is remove any rows where the text column contains the name 'MacBeth'. This should drop about half of the data points since texting is a back-and-forth game, meaning half of the texts were mine, and those are the ones that we are dropping. I also need to drop rows that have the phrase 'image omitted' in the text column because this isn't an actual text but a placeholder for when the chat was exported and a sender had sent a picture.\n",
    "\n",
    "For use in our classification task, we are only interested in the specific texts, so the timestamps and sender labels don't matter much. Therefore, part of the cleaning process involves removing the timestamps and sender labels after removing the texts that I sent. I did this by applying a lambda function to the second column of the DataFrame to extract only the text from each row, which is achieved by splitting the row string data at the ':' separator and selecting the last element.\n",
    "\n",
    "These two steps are done in the following code cells."
   ]
  },
  {
   "cell_type": "code",
   "execution_count": 52,
   "id": "f75943cb",
   "metadata": {},
   "outputs": [
    {
     "name": "stdout",
     "output_type": "stream",
     "text": [
      "In this cleaning stage I now have 982 data points\n"
     ]
    },
    {
     "data": {
      "text/html": [
       "<div>\n",
       "<style scoped>\n",
       "    .dataframe tbody tr th:only-of-type {\n",
       "        vertical-align: middle;\n",
       "    }\n",
       "\n",
       "    .dataframe tbody tr th {\n",
       "        vertical-align: top;\n",
       "    }\n",
       "\n",
       "    .dataframe thead th {\n",
       "        text-align: right;\n",
       "    }\n",
       "</style>\n",
       "<table border=\"1\" class=\"dataframe\">\n",
       "  <thead>\n",
       "    <tr style=\"text-align: right;\">\n",
       "      <th></th>\n",
       "      <th>text</th>\n",
       "      <th>label</th>\n",
       "    </tr>\n",
       "  </thead>\n",
       "  <tbody>\n",
       "    <tr>\n",
       "      <th>0</th>\n",
       "      <td>Sawa. Goodnight dear.</td>\n",
       "      <td>mom</td>\n",
       "    </tr>\n",
       "    <tr>\n",
       "      <th>1</th>\n",
       "      <td>I went to the supermarket to buy some sufurias...</td>\n",
       "      <td>grandma</td>\n",
       "    </tr>\n",
       "    <tr>\n",
       "      <th>2</th>\n",
       "      <td>Meanwhile do sth to cheer up</td>\n",
       "      <td>Lee</td>\n",
       "    </tr>\n",
       "    <tr>\n",
       "      <th>3</th>\n",
       "      <td>Was driving to see grandma... just arrived</td>\n",
       "      <td>mom</td>\n",
       "    </tr>\n",
       "    <tr>\n",
       "      <th>4</th>\n",
       "      <td>Yea... it's actually the simple things in life...</td>\n",
       "      <td>mom</td>\n",
       "    </tr>\n",
       "    <tr>\n",
       "      <th>5</th>\n",
       "      <td>Weh... bado tu ni expensive .</td>\n",
       "      <td>mom</td>\n",
       "    </tr>\n",
       "    <tr>\n",
       "      <th>6</th>\n",
       "      <td>Na... if you take the train? Will it reduce th...</td>\n",
       "      <td>mom</td>\n",
       "    </tr>\n",
       "    <tr>\n",
       "      <th>7</th>\n",
       "      <td>unakuona na tunakusikia; although hazy</td>\n",
       "      <td>mom</td>\n",
       "    </tr>\n",
       "    <tr>\n",
       "      <th>8</th>\n",
       "      <td>You can’t change my mind</td>\n",
       "      <td>Irynn</td>\n",
       "    </tr>\n",
       "    <tr>\n",
       "      <th>9</th>\n",
       "      <td>And i have a pte tomorrow</td>\n",
       "      <td>Lee</td>\n",
       "    </tr>\n",
       "    <tr>\n",
       "      <th>10</th>\n",
       "      <td>And arrived home at 1.15am..</td>\n",
       "      <td>mom</td>\n",
       "    </tr>\n",
       "  </tbody>\n",
       "</table>\n",
       "</div>"
      ],
      "text/plain": [
       "                                                 text    label\n",
       "0                               Sawa. Goodnight dear.      mom\n",
       "1   I went to the supermarket to buy some sufurias...  grandma\n",
       "2                        Meanwhile do sth to cheer up      Lee\n",
       "3          Was driving to see grandma... just arrived      mom\n",
       "4   Yea... it's actually the simple things in life...      mom\n",
       "5                       Weh... bado tu ni expensive .      mom\n",
       "6   Na... if you take the train? Will it reduce th...      mom\n",
       "7              unakuona na tunakusikia; although hazy      mom\n",
       "8                            You can’t change my mind    Irynn\n",
       "9                           And i have a pte tomorrow      Lee\n",
       "10                       And arrived home at 1.15am..      mom"
      ]
     },
     "execution_count": 52,
     "metadata": {},
     "output_type": "execute_result"
    }
   ],
   "source": [
    "# drop rows where the sender is MacBeth\n",
    "texts_data = texts_data[~texts_data['text'].str.contains('MacBeth')]\n",
    "\n",
    "# drop rows where the text says image omitted because the sender sent an image \n",
    "texts_data = texts_data[~texts_data['text'].str.contains('image omitted')]\n",
    "\n",
    "# There was a shuffle and some of the column heads were mixed in with the data so removing those as well\n",
    "texts_data = texts_data[~texts_data['label'].str.contains('label')]\n",
    "\n",
    "# reset the index\n",
    "texts_data = texts_data.reset_index(drop=True)\n",
    "\n",
    "# sanity check\n",
    "print('In this cleaning stage I now have', len(texts_data), 'data points') \n",
    "\n",
    "# view first 10 data points of the cleaned data\n",
    "# Observe --> We no longer have texts sent by MacBeth\n",
    "texts_data.head(11) "
   ]
  },
  {
   "cell_type": "code",
   "execution_count": 53,
   "id": "4a3f8035",
   "metadata": {},
   "outputs": [
    {
     "name": "stdout",
     "output_type": "stream",
     "text": [
      "In this cleaning stage I now have 982 data points\n"
     ]
    },
    {
     "data": {
      "text/html": [
       "<div>\n",
       "<style scoped>\n",
       "    .dataframe tbody tr th:only-of-type {\n",
       "        vertical-align: middle;\n",
       "    }\n",
       "\n",
       "    .dataframe tbody tr th {\n",
       "        vertical-align: top;\n",
       "    }\n",
       "\n",
       "    .dataframe thead th {\n",
       "        text-align: right;\n",
       "    }\n",
       "</style>\n",
       "<table border=\"1\" class=\"dataframe\">\n",
       "  <thead>\n",
       "    <tr style=\"text-align: right;\">\n",
       "      <th></th>\n",
       "      <th>text</th>\n",
       "      <th>label</th>\n",
       "    </tr>\n",
       "  </thead>\n",
       "  <tbody>\n",
       "    <tr>\n",
       "      <th>0</th>\n",
       "      <td>Sawa. Goodnight dear.</td>\n",
       "      <td>mom</td>\n",
       "    </tr>\n",
       "    <tr>\n",
       "      <th>1</th>\n",
       "      <td>I went to the supermarket to buy some sufurias...</td>\n",
       "      <td>grandma</td>\n",
       "    </tr>\n",
       "    <tr>\n",
       "      <th>2</th>\n",
       "      <td>Meanwhile do sth to cheer up</td>\n",
       "      <td>Lee</td>\n",
       "    </tr>\n",
       "    <tr>\n",
       "      <th>3</th>\n",
       "      <td>Was driving to see grandma... just arrived</td>\n",
       "      <td>mom</td>\n",
       "    </tr>\n",
       "    <tr>\n",
       "      <th>4</th>\n",
       "      <td>Yea... it's actually the simple things in life...</td>\n",
       "      <td>mom</td>\n",
       "    </tr>\n",
       "    <tr>\n",
       "      <th>5</th>\n",
       "      <td>Weh... bado tu ni expensive .</td>\n",
       "      <td>mom</td>\n",
       "    </tr>\n",
       "    <tr>\n",
       "      <th>6</th>\n",
       "      <td>Na... if you take the train? Will it reduce th...</td>\n",
       "      <td>mom</td>\n",
       "    </tr>\n",
       "    <tr>\n",
       "      <th>7</th>\n",
       "      <td>unakuona na tunakusikia; although hazy</td>\n",
       "      <td>mom</td>\n",
       "    </tr>\n",
       "    <tr>\n",
       "      <th>8</th>\n",
       "      <td>You can’t change my mind</td>\n",
       "      <td>Irynn</td>\n",
       "    </tr>\n",
       "    <tr>\n",
       "      <th>9</th>\n",
       "      <td>And i have a pte tomorrow</td>\n",
       "      <td>Lee</td>\n",
       "    </tr>\n",
       "    <tr>\n",
       "      <th>10</th>\n",
       "      <td>And arrived home at 1.15am..</td>\n",
       "      <td>mom</td>\n",
       "    </tr>\n",
       "  </tbody>\n",
       "</table>\n",
       "</div>"
      ],
      "text/plain": [
       "                                                 text    label\n",
       "0                               Sawa. Goodnight dear.      mom\n",
       "1   I went to the supermarket to buy some sufurias...  grandma\n",
       "2                        Meanwhile do sth to cheer up      Lee\n",
       "3          Was driving to see grandma... just arrived      mom\n",
       "4   Yea... it's actually the simple things in life...      mom\n",
       "5                       Weh... bado tu ni expensive .      mom\n",
       "6   Na... if you take the train? Will it reduce th...      mom\n",
       "7              unakuona na tunakusikia; although hazy      mom\n",
       "8                            You can’t change my mind    Irynn\n",
       "9                           And i have a pte tomorrow      Lee\n",
       "10                       And arrived home at 1.15am..      mom"
      ]
     },
     "execution_count": 53,
     "metadata": {},
     "output_type": "execute_result"
    }
   ],
   "source": [
    "# extract only the text from each row\n",
    "texts_data['text'] = texts_data['text'].apply(lambda x: x.split(': ')[-1])\n",
    "\n",
    "# sanity check --> should remain the same from the step above\n",
    "print('In this cleaning stage I now have', len(texts_data), 'data points') \n",
    "\n",
    "# view first 10 data points of the cleaned data\n",
    "# Observe --> timestamps and sender labels have been dropped from the text column\n",
    "texts_data.head(11) "
   ]
  },
  {
   "cell_type": "markdown",
   "id": "a07eca12",
   "metadata": {},
   "source": [
    " performed further preprocessing steps such as lowercasing the texts column, removing punctuation and numbers, tokenization, and lemmatization (I haven't explained the meaning and importance of each, as this was extensively covered in the First Pipeline).\n",
    "\n",
    "Additionally, I had to remove emojis since I didn't use ChatGPT this time but instead loaded the raw data as it is into Python.\n",
    "\n",
    "After performing these steps, I realized that some rows were left empty since some of the texts were just emojis, and when removed, the value is just null. Therefore, the final preprocessing step was to remove any null values."
   ]
  },
  {
   "cell_type": "code",
   "execution_count": 63,
   "id": "25e43cff",
   "metadata": {},
   "outputs": [
    {
     "name": "stdout",
     "output_type": "stream",
     "text": [
      "In this cleaning stage I now have 982 data points\n"
     ]
    },
    {
     "data": {
      "text/html": [
       "<div>\n",
       "<style scoped>\n",
       "    .dataframe tbody tr th:only-of-type {\n",
       "        vertical-align: middle;\n",
       "    }\n",
       "\n",
       "    .dataframe tbody tr th {\n",
       "        vertical-align: top;\n",
       "    }\n",
       "\n",
       "    .dataframe thead th {\n",
       "        text-align: right;\n",
       "    }\n",
       "</style>\n",
       "<table border=\"1\" class=\"dataframe\">\n",
       "  <thead>\n",
       "    <tr style=\"text-align: right;\">\n",
       "      <th></th>\n",
       "      <th>text</th>\n",
       "      <th>label</th>\n",
       "    </tr>\n",
       "  </thead>\n",
       "  <tbody>\n",
       "    <tr>\n",
       "      <th>0</th>\n",
       "      <td>sawa goodnight dear</td>\n",
       "      <td>mom</td>\n",
       "    </tr>\n",
       "    <tr>\n",
       "      <th>1</th>\n",
       "      <td>i went to the supermarket to buy some sufurias...</td>\n",
       "      <td>grandma</td>\n",
       "    </tr>\n",
       "    <tr>\n",
       "      <th>2</th>\n",
       "      <td>meanwhile do sth to cheer up</td>\n",
       "      <td>Lee</td>\n",
       "    </tr>\n",
       "    <tr>\n",
       "      <th>3</th>\n",
       "      <td>wa driving to see grandma just arrived</td>\n",
       "      <td>mom</td>\n",
       "    </tr>\n",
       "    <tr>\n",
       "      <th>4</th>\n",
       "      <td>yea it actually the simple thing in life that ...</td>\n",
       "      <td>mom</td>\n",
       "    </tr>\n",
       "    <tr>\n",
       "      <th>5</th>\n",
       "      <td>weh bado tu ni expensive</td>\n",
       "      <td>mom</td>\n",
       "    </tr>\n",
       "    <tr>\n",
       "      <th>6</th>\n",
       "      <td>na if you take the train will it reduce the ex...</td>\n",
       "      <td>mom</td>\n",
       "    </tr>\n",
       "    <tr>\n",
       "      <th>7</th>\n",
       "      <td>unakuona na tunakusikia although hazy</td>\n",
       "      <td>mom</td>\n",
       "    </tr>\n",
       "    <tr>\n",
       "      <th>8</th>\n",
       "      <td>you can ’ t change my mind</td>\n",
       "      <td>Irynn</td>\n",
       "    </tr>\n",
       "    <tr>\n",
       "      <th>9</th>\n",
       "      <td>and i have a pte tomorrow</td>\n",
       "      <td>Lee</td>\n",
       "    </tr>\n",
       "    <tr>\n",
       "      <th>10</th>\n",
       "      <td>and arrived home at am</td>\n",
       "      <td>mom</td>\n",
       "    </tr>\n",
       "  </tbody>\n",
       "</table>\n",
       "</div>"
      ],
      "text/plain": [
       "                                                 text    label\n",
       "0                                 sawa goodnight dear      mom\n",
       "1   i went to the supermarket to buy some sufurias...  grandma\n",
       "2                        meanwhile do sth to cheer up      Lee\n",
       "3              wa driving to see grandma just arrived      mom\n",
       "4   yea it actually the simple thing in life that ...      mom\n",
       "5                            weh bado tu ni expensive      mom\n",
       "6   na if you take the train will it reduce the ex...      mom\n",
       "7               unakuona na tunakusikia although hazy      mom\n",
       "8                          you can ’ t change my mind    Irynn\n",
       "9                           and i have a pte tomorrow      Lee\n",
       "10                             and arrived home at am      mom"
      ]
     },
     "execution_count": 63,
     "metadata": {},
     "output_type": "execute_result"
    }
   ],
   "source": [
    "import string\n",
    "import nltk\n",
    "import re\n",
    "\n",
    "# nltk.download('wordnet')\n",
    "from nltk.stem import WordNetLemmatizer\n",
    "\n",
    "# lowercasing texts\n",
    "texts_data['text'] = texts_data['text'].str.lower()\n",
    "\n",
    "# removing punctuation and numbers\n",
    "def remove_punctuation(text):\n",
    "    return text.translate(str.maketrans('', '', string.punctuation + string.digits))\n",
    "\n",
    "texts_data['text'] = texts_data['text'].apply(remove_punctuation)\n",
    "\n",
    "# tokenization and lemmatization\n",
    "def lemmatize(text):\n",
    "    lemmatizer = WordNetLemmatizer()\n",
    "    words = nltk.word_tokenize(text)\n",
    "    lemmatized_words = [lemmatizer.lemmatize(word) for word in words]\n",
    "    return ' '.join(lemmatized_words)\n",
    "\n",
    "texts_data['text'] = texts_data['text'].apply(lemmatize)\n",
    "\n",
    "# remove emojis (Got this from StackOverflow)\n",
    "def remove_emojis(text):\n",
    "    emoji_pattern = re.compile(\"[\"\n",
    "                               u\"\\U0001F600-\\U0001F64F\"  # emoticons\n",
    "                               u\"\\U0001F300-\\U0001F5FF\"  # symbols & pictographs\n",
    "                               u\"\\U0001F680-\\U0001F6FF\"  # transport & map symbols\n",
    "                               u\"\\U0001F1E0-\\U0001F1FF\"  # flags (iOS)\n",
    "                               \"]+\", flags=re.UNICODE)\n",
    "    return emoji_pattern.sub(r'', text)\n",
    "\n",
    "texts_data['text'] = texts_data['text'].apply(remove_emojis)\n",
    "\n",
    "# drop null values\n",
    "texts_data = texts_data.dropna(subset = ['text'])\n",
    "\n",
    "# sanity check --> should be fewer of remain the same from the step above\n",
    "print('In this cleaning stage I now have', len(texts_data), 'data points') \n",
    "\n",
    "# view first 10 data points of the cleaned data\n",
    "texts_data.head(11) "
   ]
  },
  {
   "cell_type": "markdown",
   "id": "b031f35b",
   "metadata": {},
   "source": [
    "The data is now clean and correctly formatted for any exploratory analysis and feature engineering. "
   ]
  },
  {
   "cell_type": "markdown",
   "id": "e9f86c11",
   "metadata": {},
   "source": [
    "**Exploratory data analysis**\n",
    "\n",
    "I was curious to find out which of my chosen family and friends text me the most, so I created a histogram of the number of texts from each of them, which represents the distribution of labels. I also created a distribution of text lengths to see how much it was affected by the new data from last time by comparing it with an average text length of 5.38 words from the First Pipeline, which only contained texts from my mom and dad."
   ]
  },
  {
   "cell_type": "code",
   "execution_count": 64,
   "id": "4a2132ce",
   "metadata": {},
   "outputs": [
    {
     "data": {
      "image/png": "[encoded data removed]",
      "text/plain": [
       "<Figure size 432x288 with 1 Axes>"
      ]
     },
     "metadata": {
      "needs_background": "light"
     },
     "output_type": "display_data"
    }
   ],
   "source": [
    "# Visualization of the distribution of labels. (Matibe, 2023)\n",
    "# Code is same from last time since the exploratory analysis being done is the same just with more data\n",
    "import matplotlib.pyplot as plt\n",
    "\n",
    "labels = texts_data['label'].value_counts()\n",
    "\n",
    "plt.figure()\n",
    "plt.bar(labels.index, labels.values, color = 'purple')\n",
    "plt.title('Distribution of Labels')\n",
    "plt.xlabel('Label')\n",
    "plt.ylabel('Count')\n",
    "plt.show()"
   ]
  },
  {
   "cell_type": "markdown",
   "id": "1bb1016e",
   "metadata": {},
   "source": [
    "From the distribution above, it seems that I text Lee and my mom the most, which doesn't come as a shock to me. Lee is literally my best friend, and my mom is, well, my mom, and I tell her everything. However, it seems that I need to text my grandma and dad more since they have the fewest texts of the lot. This helped me identify a bias I had last time during data collection since the label distribution for my mom and dad was the same, as I extracted an almost equal number of texts for both. However, in this second pipeline, I extracted all the texts for each sender for the same time period."
   ]
  },
  {
   "cell_type": "code",
   "execution_count": 65,
   "id": "8e440dd9",
   "metadata": {},
   "outputs": [
    {
     "name": "stdout",
     "output_type": "stream",
     "text": [
      "The texts have an average length of 5.35 words\n"
     ]
    },
    {
     "data": {
      "image/png": "[encoded data removed]",
      "text/plain": [
       "<Figure size 432x288 with 1 Axes>"
      ]
     },
     "metadata": {
      "needs_background": "light"
     },
     "output_type": "display_data"
    }
   ],
   "source": [
    "import numpy as np\n",
    "\n",
    "# text lengths\n",
    "text_lengths = texts_data['text'].apply(lambda x: len(x.split()))\n",
    "\n",
    "print('The texts have an average length of', round(np.mean(text_lengths), 2), 'words')\n",
    "\n",
    "# Plot a histogram of the text lengths\n",
    "plt.hist(text_lengths, color = 'black', edgecolor = 'white')\n",
    "plt.title('Distribution of Text Lengths')\n",
    "plt.xlabel('Text Length')\n",
    "plt.ylabel('Count')\n",
    "plt.show()"
   ]
  },
  {
   "cell_type": "markdown",
   "id": "5a39fd48",
   "metadata": {},
   "source": [
    "From the distribution above, the distribution of text lengths had a few more outliers this time compared to last time, but overall, the average length remained the same at approximately 5 words. Last time, we had an average length of 5.38 words, and this time it is 5.35 words."
   ]
  },
  {
   "cell_type": "markdown",
   "id": "38e795e7",
   "metadata": {},
   "source": [
    "**Feature engineering**\n",
    "\n",
    "This subsection involves feature engineering for the Naive Bayes Classifier. I maintained my choice of using the CountVectorizer. A similar feature engineering method is applied in a different section below for use in the second model. "
   ]
  },
  {
   "cell_type": "code",
   "execution_count": 66,
   "id": "2421dda1",
   "metadata": {},
   "outputs": [
    {
     "name": "stdout",
     "output_type": "stream",
     "text": [
      "[[0 0 0 ... 0 0 0]\n",
      " [0 0 1 ... 0 0 0]\n",
      " [0 0 0 ... 0 0 0]\n",
      " ...\n",
      " [0 0 0 ... 0 0 0]\n",
      " [0 0 0 ... 0 0 0]\n",
      " [0 0 0 ... 0 0 0]]\n"
     ]
    }
   ],
   "source": [
    "from sklearn.feature_extraction.text import CountVectorizer\n",
    "\n",
    "texts_data.fillna(\"\", inplace=True)\n",
    "\n",
    "# feature extraction - Count Vectorizer\n",
    "vectorizer = CountVectorizer()\n",
    "X = vectorizer.fit_transform(texts_data['text'])\n",
    "\n",
    "print(X.toarray())"
   ]
  },
  {
   "cell_type": "markdown",
   "id": "dcd4b0e5",
   "metadata": {},
   "source": [
    "## Discussing the task (classification)"
   ]
  },
  {
   "cell_type": "markdown",
   "id": "8e2710ec",
   "metadata": {},
   "source": [
    "The task this time has changed from a binary classification to a multiple classification since there are more than two labels now. The steps for the task are the same as in the first Pipeline and we "
   ]
  },
  {
   "cell_type": "markdown",
   "id": "59ea2eea",
   "metadata": {},
   "source": [
    "## What did I do last time? (Naïve Bayes Classifier)"
   ]
  },
  {
   "cell_type": "markdown",
   "id": "7c422f91",
   "metadata": {},
   "source": [
    "In the first pipeline, I developed a text classification model using the Naive Bayes Classifier to identify whether a text was written by my mom or dad. The Naive Bayes Classifier is a probabilistic machine learning algorithm that estimates the likelihood of a text being from either parent based on the frequency of words in the text. The model was trained on preprocessed data by converting it to lowercase, tokenizing, and lemmatizing the words to their lemma form. The performance of the model was evaluated using metrics such as accuracy, precision, recall, and F1 score, and an accuracy of 85% was achieved. The Naive Bayes Classifier assumes that the features, i.e., word frequencies, are conditionally independent given the class, which is a simple assumption but effective for this classification task. The model demonstrated the importance of data preprocessing and selecting appropriate evaluation metrics, and it could be useful in identifying fraudulent or spam text messages.\n",
    "\n",
    "In the code cells below, we apply the Naive Bayes Classifier on this extendend dataset and compare its performance metrics to those of a different model. "
   ]
  },
  {
   "cell_type": "code",
   "execution_count": 121,
   "id": "06a93925",
   "metadata": {},
   "outputs": [
    {
     "name": "stdout",
     "output_type": "stream",
     "text": [
      "Accuracy: 0.37579617834394907\n",
      "Accuracy: 0.4713375796178344\n",
      "Accuracy: 0.5031847133757962\n",
      "Accuracy: 0.4267515923566879\n",
      "Accuracy: 0.43312101910828027\n"
     ]
    },
    {
     "data": {
      "text/plain": [
       "785"
      ]
     },
     "execution_count": 121,
     "metadata": {},
     "output_type": "execute_result"
    }
   ],
   "source": [
    "from sklearn.naive_bayes import MultinomialNB\n",
    "from sklearn.model_selection import StratifiedKFold\n",
    "from sklearn.metrics import accuracy_score\n",
    "\n",
    "strat = StratifiedKFold(n_splits=5) # k-folds\n",
    "\n",
    "from sklearn.model_selection import train_test_split\n",
    "np.random.seed(28) # to ensure that results are reproducible. \n",
    "\n",
    "y = texts_data['label']\n",
    "X_train, Xx_test, y_train, yy_test = train_test_split(X, y, test_size=0.2)\n",
    "\n",
    "len(y_train)\n",
    "\n",
    "for train_index, test_index in strat.split(X_train, y_train):\n",
    "    X_train, X_test = X[train_index], X[test_index]\n",
    "    y_train, y_test = y[train_index], y[test_index]\n",
    "    NBC = MultinomialNB() \n",
    "    NBC.fit(X_train, y_train) # fitting the model\n",
    "    y_pred = NBC.predict(X_test)\n",
    "    print(\"Accuracy:\", accuracy_score(y_test, y_pred)) # accuracy for each fold\n",
    "    \n",
    "len(y_train) + len(y_test) # sanity check that I'm just using the training set. "
   ]
  },
  {
   "cell_type": "code",
   "execution_count": 136,
   "id": "bf7a0176",
   "metadata": {},
   "outputs": [
    {
     "name": "stdout",
     "output_type": "stream",
     "text": [
      "The accuracy of this model is 57.36 %\n"
     ]
    },
    {
     "data": {
      "text/plain": [
       "<Figure size 576x432 with 0 Axes>"
      ]
     },
     "metadata": {},
     "output_type": "display_data"
    },
    {
     "data": {
      "image/png": "[encoded data removed]",
      "text/plain": [
       "<Figure size 432x288 with 2 Axes>"
      ]
     },
     "metadata": {
      "needs_background": "light"
     },
     "output_type": "display_data"
    }
   ],
   "source": [
    "# testing --> ie. making predictions\n",
    "yy_pred = NBC.predict(Xx_test)\n",
    "\n",
    "# performance metric\n",
    "accuracy = accuracy_score(yy_test, yy_pred)\n",
    "print('The accuracy of this model is', round(accuracy*100, 2), '%')\n",
    "\n",
    "from sklearn.metrics import ConfusionMatrixDisplay, confusion_matrix\n",
    "\n",
    "cm = confusion_matrix(yy_test, yy_pred) # define the confusion matrix\n",
    "disp = ConfusionMatrixDisplay(confusion_matrix=cm)\n",
    "\n",
    "# Plot it\n",
    "plt.figure(figsize=(8, 6))\n",
    "disp.plot(include_values=True, cmap=plt.cm.Greys) # black and white cause this is ancient? \n",
    "ax = disp.ax_\n",
    "ax.set_title(f\"Accuracy: {accuracy}\") # title\n",
    "plt.show()"
   ]
  },
  {
   "cell_type": "markdown",
   "id": "09cf9854",
   "metadata": {},
   "source": [
    "On this extended dataset, the Naive Bayes achieves an accuracy of just 57.36 % compared to 85% accuracy on the smaller dataset of last time. \n",
    "The reduced accuracy of the Naive Bayes Classifier on the extended dataset compared to the smaller dataset from the first pipeline is most likely owing to the new dataset's greater complexity. With more data and more diverse messages from many family members and friends, the language and writing style utilized vary considerably, making it more difficult for the classifier to distinguish between the writers. Furthermore, there may be a class imbalance, with some writers having much more texts than others, making it more difficult for the classifier to correctly identify the authors who are underrepresented.\n",
    "To account for the increasing complexity and variability in the data, more advanced techniques such as feature engineering or applying deep learning algorithms may be required to improve accuracy on the enlarged dataset. We can also try a different model to see how it compares to the Naive Bayes Classifier. "
   ]
  },
  {
   "cell_type": "markdown",
   "id": "ebbf3542",
   "metadata": {},
   "source": [
    "## Model Selection (XGBoost)"
   ]
  },
  {
   "cell_type": "markdown",
   "id": "ce9fe97c",
   "metadata": {},
   "source": [
    "XGBoost (eXtreme Gradient Boosting) is a robust implementation of the gradient boosting method. The gradient boosting approach constructs a decision tree ensemble in which each succeeding tree is trained to rectify the faults caused by the prior tree. This is accomplished by fitting each tree to the loss function's negative gradient with regard to the current model's predictions. XGBoost includes a number of enhancements and extra features that make it more efficient and adaptable.\n",
    "\n",
    "The main components of the gradient boosting algorithm are:\n",
    "\n",
    "- Loss function (objective function): A differentiable function that calculates the difference between true target values and model predictions. For classification tasks, common loss functions include logistic loss and multi-class log loss, whereas mean squared error and mean absolute error are used for regression tasks.\n",
    "\n",
    "- Weak learners (base models): Decision trees are used as weak learners by the algorithm. These trees are often shallow (low in depth), with a high bias and a low variance. The idea is to integrate these weak learners in order to produce a strong learner with minimal bias and variation.\n",
    "\n",
    "- Gradient boosting trains the weak learners sequentially, with each tree being added to the existing model to fix the errors made by the preceding trees. The final model is a linear combination of the trees, with each tree's contribution to the overall model weighted.\n",
    "\n",
    "\n",
    "The math behind XGBoost involves:\n",
    "\n",
    "- Computation of the gradient and Hessian of the loss function with respect to the predictions: At each step, it computes the gradient (first-order derivative) and Hessian (second-order derivative) of the loss function with regard to the predictions. These parameters guide the training of the next tree in the sequence to rectify errors caused by the previous tree.\n",
    "\n",
    "- Regularization: In the objective function, XGBoost includes L1 (Lasso) and L2 (Ridge) regularization terms. By penalizing large weights in the tree ensemble, this helps regulate the model's complexity and prevents overfitting.\n",
    "\n",
    "- Tree pruning: XGBoost controls the depth of the trees using a \"max depth\" parameter and applies an efficient algorithm for pruning trees based on the reduction in the loss function that each split gives. This contributes to less overfitting and simpler trees that generalize better.\n",
    "\n",
    "XGBoost is especially quick since it supports parallelization, which allows the algorithm to generate many trees at the same time, reducing overall training time. It also supports distributed computation, which allows it to handle larger datasets by training on numerous machines.\n",
    "\n",
    "**XGBoost Pseudocode**\n",
    "1. initialize the model with a constant prediction value\n",
    "2. For i in range(number of trees):\n",
    "    - Compute the negative gradients and Hessian values of the loss function for each training example based on the current model's predictions.\n",
    "    - Create a new decision tree by fitting it to the negative gradients and Hessian values.\n",
    "3.  For leaf node in tree:\n",
    "    - Compute the optimal weight for the leaf node by minimizing the regularized loss function.\n",
    "4. Prune the tree if the gain in the loss function from a split is less than a predefined threshold.\n",
    "5. Add the new tree to the model with a learning rate to control the contribution of the tree to the overall model.\n",
    "6. Output the final model, which is a weighted combination of the decision trees.\n",
    "\n",
    "From research, Naive Bayes Classifier is specifically designed for text classification whereas XGBoost is not. So how would these two models compare when given the same task? While XGBoost is not specifically designed for text classification we can still use it for this task for the following reasons:\n",
    "\n",
    "- Handling sparse data: When text input is translated into numerical features using approaches such as TF-IDF or Bag of Words, the resulting data is frequently high-dimensional and sparse. XGBoost can handle sparse data successfully, making it excellent for text classification problems.\n",
    "\n",
    "- XGBoost is an ensemble learning method, which means it combines the predictions of numerous weak learners (in this example, decision trees) to build a strong learner. By eliminating overfitting and capturing complicated patterns in the data, this method improves the model's performance and generalization capabilities.\n",
    "\n",
    "- Regularization: The objective function of XGBoost includes L1 and L2 regularization terms. Regularization aids in model complexity control, preventing overfitting and enhancing generalization to previously unknown data. This is very handy when working with high-dimensional data, which is frequently the case in text classification.\n",
    "\n",
    "- Text classification problems can occasionally be imbalanced, with some classes having much fewer samples than others. XGBoost allows you to provide different weights to distinct classes, which can help the model learn from imbalanced datasets more effectively.\n",
    "\n",
    "- XGBoost is built for speed and can handle big datasets with millions of instances and thousands of features. This makes it suited for large-scale text classification jobs with a huge number of occurrences and features.\n",
    "\n",
    "- Flexibility: XGBoost can be used with a variety of base learners (not only decision trees) and supports a wide range of loss functions. Because of this adaptability, you can modify the model to specific text classification tasks and objectives.\n",
    "\n",
    "We can begin by installing the XGBoost into our Jupyter environment. "
   ]
  },
  {
   "cell_type": "code",
   "execution_count": 94,
   "id": "4e5acd7c",
   "metadata": {},
   "outputs": [
    {
     "name": "stdout",
     "output_type": "stream",
     "text": [
      "Requirement already satisfied: xgboost in /Users/macbethmatibe/opt/anaconda3/lib/python3.8/site-packages (1.7.4)\n",
      "Requirement already satisfied: scipy in /Users/macbethmatibe/opt/anaconda3/lib/python3.8/site-packages (from xgboost) (1.6.2)\n",
      "Requirement already satisfied: numpy in /Users/macbethmatibe/opt/anaconda3/lib/python3.8/site-packages (from xgboost) (1.20.1)\n",
      "\n",
      "\u001b[1m[\u001b[0m\u001b[34;49mnotice\u001b[0m\u001b[1;39;49m]\u001b[0m\u001b[39;49m A new release of pip available: \u001b[0m\u001b[31;49m22.3.1\u001b[0m\u001b[39;49m -> \u001b[0m\u001b[32;49m23.0.1\u001b[0m\n",
      "\u001b[1m[\u001b[0m\u001b[34;49mnotice\u001b[0m\u001b[1;39;49m]\u001b[0m\u001b[39;49m To update, run: \u001b[0m\u001b[32;49mpip install --upgrade pip\u001b[0m\n"
     ]
    }
   ],
   "source": [
    "# install XGBoost\n",
    "!pip install xgboost"
   ]
  },
  {
   "cell_type": "code",
   "execution_count": 99,
   "id": "6ea0e344",
   "metadata": {},
   "outputs": [
    {
     "name": "stdout",
     "output_type": "stream",
     "text": [
      "In this model selection stage I now have 982 data points\n"
     ]
    },
    {
     "data": {
      "text/html": [
       "<div>\n",
       "<style scoped>\n",
       "    .dataframe tbody tr th:only-of-type {\n",
       "        vertical-align: middle;\n",
       "    }\n",
       "\n",
       "    .dataframe tbody tr th {\n",
       "        vertical-align: top;\n",
       "    }\n",
       "\n",
       "    .dataframe thead th {\n",
       "        text-align: right;\n",
       "    }\n",
       "</style>\n",
       "<table border=\"1\" class=\"dataframe\">\n",
       "  <thead>\n",
       "    <tr style=\"text-align: right;\">\n",
       "      <th></th>\n",
       "      <th>text</th>\n",
       "      <th>label</th>\n",
       "    </tr>\n",
       "  </thead>\n",
       "  <tbody>\n",
       "    <tr>\n",
       "      <th>0</th>\n",
       "      <td>sawa goodnight dear</td>\n",
       "      <td>mom</td>\n",
       "    </tr>\n",
       "    <tr>\n",
       "      <th>1</th>\n",
       "      <td>i went to the supermarket to buy some sufurias...</td>\n",
       "      <td>grandma</td>\n",
       "    </tr>\n",
       "    <tr>\n",
       "      <th>2</th>\n",
       "      <td>meanwhile do sth to cheer up</td>\n",
       "      <td>Lee</td>\n",
       "    </tr>\n",
       "    <tr>\n",
       "      <th>3</th>\n",
       "      <td>wa driving to see grandma just arrived</td>\n",
       "      <td>mom</td>\n",
       "    </tr>\n",
       "    <tr>\n",
       "      <th>4</th>\n",
       "      <td>yea it actually the simple thing in life that ...</td>\n",
       "      <td>mom</td>\n",
       "    </tr>\n",
       "  </tbody>\n",
       "</table>\n",
       "</div>"
      ],
      "text/plain": [
       "                                                text    label\n",
       "0                                sawa goodnight dear      mom\n",
       "1  i went to the supermarket to buy some sufurias...  grandma\n",
       "2                       meanwhile do sth to cheer up      Lee\n",
       "3             wa driving to see grandma just arrived      mom\n",
       "4  yea it actually the simple thing in life that ...      mom"
      ]
     },
     "execution_count": 99,
     "metadata": {},
     "output_type": "execute_result"
    }
   ],
   "source": [
    "# sanity check \n",
    "# Ensuring my data is still the same :) \n",
    "print('In this model selection stage I now have', len(texts_data), 'data points') \n",
    "\n",
    "# view first 5 data points of the data\n",
    "texts_data.head(5) "
   ]
  },
  {
   "cell_type": "markdown",
   "id": "51b0160e",
   "metadata": {},
   "source": [
    "**Feature Engineering**\n",
    "\n",
    "To use XGBoost for this classification task, we need to convert the text data that we have into a numerical format that can be used by the XGBoost Model. We can use BoW (Bag of Words) or TF-IDF (Term Frequency-Inverse Document Frequency) which is an extension of the BoW. In BoW we represent he text as a matrix where each row corresponds to a text data point and each column is a unique word found in the entire dataset. The values in the matrix are the frequency of the unique word in the text datapoint. This was achieved above using the \"CountVectorizer\" method \n",
    "\n",
    "In TF-IDF, the idea is the same, except this time, instead of using raw word frequencies, we weigh the word frequencies based on their importance in the datapoints and across the entire dataset. Words that are more unique or occur more frequently to a particular data point have higher weights. We can create a a TF-IDF representation using TfidfVectorizer from the sklearn.feature_extraction.text module as shown below. "
   ]
  },
  {
   "cell_type": "code",
   "execution_count": 120,
   "id": "68bbd9da",
   "metadata": {},
   "outputs": [
    {
     "data": {
      "text/plain": [
       "<982x1470 sparse matrix of type '<class 'numpy.float64'>'\n",
       "\twith 4670 stored elements in Compressed Sparse Row format>"
      ]
     },
     "execution_count": 120,
     "metadata": {},
     "output_type": "execute_result"
    }
   ],
   "source": [
    "# Use TfidfVectorizer to create the feature matrix\n",
    "from sklearn.feature_extraction.text import TfidfVectorizer\n",
    "\n",
    "vectorizer = TfidfVectorizer()\n",
    "X = vectorizer.fit_transform(texts_data['text'])\n",
    "y = texts_data['label']\n",
    "\n",
    "X"
   ]
  },
  {
   "cell_type": "markdown",
   "id": "74ff2404",
   "metadata": {},
   "source": [
    "## Training the model"
   ]
  },
  {
   "cell_type": "markdown",
   "id": "9a9f6c6d",
   "metadata": {},
   "source": [
    "After encoding the data, the next step is to split the data into the training set which trains the model and the testing set which evaluates the performance of the model. We also need to convert the string labels into interger-encoded labels that we pass into the model. Otherwise, this throws off an error. "
   ]
  },
  {
   "cell_type": "code",
   "execution_count": 125,
   "id": "4559843b",
   "metadata": {},
   "outputs": [
    {
     "data": {
      "text/plain": [
       "785"
      ]
     },
     "execution_count": 125,
     "metadata": {},
     "output_type": "execute_result"
    }
   ],
   "source": [
    "# Convert the string labels into integer-encoded labels\n",
    "label_encoder = LabelEncoder()\n",
    "y_encoded = label_encoder.fit_transform(y)\n",
    "\n",
    "# Split the data into training and testing sets\n",
    "\n",
    "X_train, X_test, y_train, y_test = train_test_split(X, y_encoded, test_size=0.2, random_state=42)\n",
    "\n",
    "len(y_train) # Sanity Check"
   ]
  },
  {
   "cell_type": "code",
   "execution_count": 127,
   "id": "567d31ee",
   "metadata": {},
   "outputs": [
    {
     "data": {
      "text/html": [
       "<style>#sk-container-id-2 {color: black;background-color: white;}#sk-container-id-2 pre{padding: 0;}#sk-container-id-2 div.sk-toggleable {background-color: white;}#sk-container-id-2 label.sk-toggleable__label {cursor: pointer;display: block;width: 100%;margin-bottom: 0;padding: 0.3em;box-sizing: border-box;text-align: center;}#sk-container-id-2 label.sk-toggleable__label-arrow:before {content: \"▸\";float: left;margin-right: 0.25em;color: #696969;}#sk-container-id-2 label.sk-toggleable__label-arrow:hover:before {color: black;}#sk-container-id-2 div.sk-estimator:hover label.sk-toggleable__label-arrow:before {color: black;}#sk-container-id-2 div.sk-toggleable__content {max-height: 0;max-width: 0;overflow: hidden;text-align: left;background-color: #f0f8ff;}#sk-container-id-2 div.sk-toggleable__content pre {margin: 0.2em;color: black;border-radius: 0.25em;background-color: #f0f8ff;}#sk-container-id-2 input.sk-toggleable__control:checked~div.sk-toggleable__content {max-height: 200px;max-width: 100%;overflow: auto;}#sk-container-id-2 input.sk-toggleable__control:checked~label.sk-toggleable__label-arrow:before {content: \"▾\";}#sk-container-id-2 div.sk-estimator input.sk-toggleable__control:checked~label.sk-toggleable__label {background-color: #d4ebff;}#sk-container-id-2 div.sk-label input.sk-toggleable__control:checked~label.sk-toggleable__label {background-color: #d4ebff;}#sk-container-id-2 input.sk-hidden--visually {border: 0;clip: rect(1px 1px 1px 1px);clip: rect(1px, 1px, 1px, 1px);height: 1px;margin: -1px;overflow: hidden;padding: 0;position: absolute;width: 1px;}#sk-container-id-2 div.sk-estimator {font-family: monospace;background-color: #f0f8ff;border: 1px dotted black;border-radius: 0.25em;box-sizing: border-box;margin-bottom: 0.5em;}#sk-container-id-2 div.sk-estimator:hover {background-color: #d4ebff;}#sk-container-id-2 div.sk-parallel-item::after {content: \"\";width: 100%;border-bottom: 1px solid gray;flex-grow: 1;}#sk-container-id-2 div.sk-label:hover label.sk-toggleable__label {background-color: #d4ebff;}#sk-container-id-2 div.sk-serial::before {content: \"\";position: absolute;border-left: 1px solid gray;box-sizing: border-box;top: 0;bottom: 0;left: 50%;z-index: 0;}#sk-container-id-2 div.sk-serial {display: flex;flex-direction: column;align-items: center;background-color: white;padding-right: 0.2em;padding-left: 0.2em;position: relative;}#sk-container-id-2 div.sk-item {position: relative;z-index: 1;}#sk-container-id-2 div.sk-parallel {display: flex;align-items: stretch;justify-content: center;background-color: white;position: relative;}#sk-container-id-2 div.sk-item::before, #sk-container-id-2 div.sk-parallel-item::before {content: \"\";position: absolute;border-left: 1px solid gray;box-sizing: border-box;top: 0;bottom: 0;left: 50%;z-index: -1;}#sk-container-id-2 div.sk-parallel-item {display: flex;flex-direction: column;z-index: 1;position: relative;background-color: white;}#sk-container-id-2 div.sk-parallel-item:first-child::after {align-self: flex-end;width: 50%;}#sk-container-id-2 div.sk-parallel-item:last-child::after {align-self: flex-start;width: 50%;}#sk-container-id-2 div.sk-parallel-item:only-child::after {width: 0;}#sk-container-id-2 div.sk-dashed-wrapped {border: 1px dashed gray;margin: 0 0.4em 0.5em 0.4em;box-sizing: border-box;padding-bottom: 0.4em;background-color: white;}#sk-container-id-2 div.sk-label label {font-family: monospace;font-weight: bold;display: inline-block;line-height: 1.2em;}#sk-container-id-2 div.sk-label-container {text-align: center;}#sk-container-id-2 div.sk-container {/* jupyter's `normalize.less` sets `[hidden] { display: none; }` but bootstrap.min.css set `[hidden] { display: none !important; }` so we also need the `!important` here to be able to override the default hidden behavior on the sphinx rendered scikit-learn.org. See: https://github.com/scikit-learn/scikit-learn/issues/21755 */display: inline-block !important;position: relative;}#sk-container-id-2 div.sk-text-repr-fallback {display: none;}</style><div id=\"sk-container-id-2\" class=\"sk-top-container\"><div class=\"sk-text-repr-fallback\"><pre>XGBClassifier(base_score=None, booster=None, callbacks=None,\n",
       "              colsample_bylevel=None, colsample_bynode=None,\n",
       "              colsample_bytree=None, early_stopping_rounds=None,\n",
       "              enable_categorical=False, eval_metric=&#x27;mlogloss&#x27;,\n",
       "              feature_types=None, gamma=None, gpu_id=None, grow_policy=None,\n",
       "              importance_type=None, interaction_constraints=None,\n",
       "              learning_rate=None, max_bin=None, max_cat_threshold=None,\n",
       "              max_cat_to_onehot=None, max_delta_step=None, max_depth=None,\n",
       "              max_leaves=None, min_child_weight=None, missing=nan,\n",
       "              monotone_constraints=None, n_estimators=100, n_jobs=None,\n",
       "              num_parallel_tree=None, objective=&#x27;multi:softprob&#x27;,\n",
       "              predictor=None, ...)</pre><b>In a Jupyter environment, please rerun this cell to show the HTML representation or trust the notebook. <br />On GitHub, the HTML representation is unable to render, please try loading this page with nbviewer.org.</b></div><div class=\"sk-container\" hidden><div class=\"sk-item\"><div class=\"sk-estimator sk-toggleable\"><input class=\"sk-toggleable__control sk-hidden--visually\" id=\"sk-estimator-id-2\" type=\"checkbox\" checked><label for=\"sk-estimator-id-2\" class=\"sk-toggleable__label sk-toggleable__label-arrow\">XGBClassifier</label><div class=\"sk-toggleable__content\"><pre>XGBClassifier(base_score=None, booster=None, callbacks=None,\n",
       "              colsample_bylevel=None, colsample_bynode=None,\n",
       "              colsample_bytree=None, early_stopping_rounds=None,\n",
       "              enable_categorical=False, eval_metric=&#x27;mlogloss&#x27;,\n",
       "              feature_types=None, gamma=None, gpu_id=None, grow_policy=None,\n",
       "              importance_type=None, interaction_constraints=None,\n",
       "              learning_rate=None, max_bin=None, max_cat_threshold=None,\n",
       "              max_cat_to_onehot=None, max_delta_step=None, max_depth=None,\n",
       "              max_leaves=None, min_child_weight=None, missing=nan,\n",
       "              monotone_constraints=None, n_estimators=100, n_jobs=None,\n",
       "              num_parallel_tree=None, objective=&#x27;multi:softprob&#x27;,\n",
       "              predictor=None, ...)</pre></div></div></div></div></div>"
      ],
      "text/plain": [
       "XGBClassifier(base_score=None, booster=None, callbacks=None,\n",
       "              colsample_bylevel=None, colsample_bynode=None,\n",
       "              colsample_bytree=None, early_stopping_rounds=None,\n",
       "              enable_categorical=False, eval_metric='mlogloss',\n",
       "              feature_types=None, gamma=None, gpu_id=None, grow_policy=None,\n",
       "              importance_type=None, interaction_constraints=None,\n",
       "              learning_rate=None, max_bin=None, max_cat_threshold=None,\n",
       "              max_cat_to_onehot=None, max_delta_step=None, max_depth=None,\n",
       "              max_leaves=None, min_child_weight=None, missing=nan,\n",
       "              monotone_constraints=None, n_estimators=100, n_jobs=None,\n",
       "              num_parallel_tree=None, objective='multi:softprob',\n",
       "              predictor=None, ...)"
      ]
     },
     "execution_count": 127,
     "metadata": {},
     "output_type": "execute_result"
    }
   ],
   "source": [
    "# Train the XGBoost classifier\n",
    "\n",
    "xgbs = XGBClassifier(use_label_encoder=False, eval_metric='mlogloss')\n",
    "xgbs.fit(X_train, y_train)"
   ]
  },
  {
   "cell_type": "markdown",
   "id": "f080c071",
   "metadata": {},
   "source": [
    "## Predictions and performance metrics."
   ]
  },
  {
   "cell_type": "markdown",
   "id": "f25cff5b",
   "metadata": {},
   "source": [
    "We can now use the test data to examine how the model performs on unseen data, which in this case is the X_test data, after we have trained it. We can assess the model's performance using metrics such as accuracy which is the fraction of correct predictions (including true positives and true negatives) across all instances.\n",
    "\n",
    "Accuracy = (TP + TN) / (TP + TN + FP + FN)"
   ]
  },
  {
   "cell_type": "code",
   "execution_count": 137,
   "id": "7fa7562c",
   "metadata": {},
   "outputs": [
    {
     "name": "stdout",
     "output_type": "stream",
     "text": [
      "The accuracy of the XGBoost model is 47.72 %\n"
     ]
    }
   ],
   "source": [
    "# Make predictions on the test set\n",
    "y_pred = xgbs.predict(X_test)\n",
    "\n",
    "# Convert the integer-encoded predictions back to string labels\n",
    "y_pred_labels = label_encoder.inverse_transform(y_pred)\n",
    "\n",
    "# Evaluate the classifier's performance\n",
    "accuracyXGB = accuracy_score(y_test, y_pred)\n",
    "print('The accuracy of the XGBoost model is',  round(accuracyXGB*100, 2), '%')"
   ]
  },
  {
   "cell_type": "markdown",
   "id": "3a12c3ba",
   "metadata": {},
   "source": [
    "## Visualizing results and Conclusions."
   ]
  },
  {
   "cell_type": "markdown",
   "id": "db06c52b",
   "metadata": {},
   "source": [
    "We can display the confusion matrix alongside the accuracy score"
   ]
  },
  {
   "cell_type": "code",
   "execution_count": 135,
   "id": "ef1196e5",
   "metadata": {},
   "outputs": [
    {
     "data": {
      "image/png": "[encoded data removed]",
      "text/plain": [
       "<Figure size 432x288 with 2 Axes>"
      ]
     },
     "metadata": {
      "needs_background": "light"
     },
     "output_type": "display_data"
    }
   ],
   "source": [
    "cm2 = confusion_matrix(y_test, y_pred) # define the confusion matrix\n",
    "disp2 = ConfusionMatrixDisplay(confusion_matrix=cm2)\n",
    "\n",
    "# Plot confusion matrix\n",
    "disp2.plot(include_values=True, cmap=plt.cm.Blues) #nice color? \n",
    "ax = disp2.ax_\n",
    "ax.set_title(f\"Accuracy: {accuracyXGB}\") # title\n",
    "plt.show()"
   ]
  },
  {
   "cell_type": "markdown",
   "id": "4c739420",
   "metadata": {},
   "source": [
    "From our results we can see that the XGBoost does not perform as well as the Naive Bayes Classifier on text classification. For the same dataset, the Naive Bayes classifier has an accuracy score of approximately 57% while the XGBoost has a score of approximately 47%."
   ]
  },
  {
   "cell_type": "markdown",
   "id": "55fa52b0",
   "metadata": {},
   "source": [
    "## So why does XGBoost do so badly on text classification and why does the Naive Bayes perform worse on more data? "
   ]
  },
  {
   "cell_type": "markdown",
   "id": "6a489712",
   "metadata": {},
   "source": [
    "**XGBoost:** XGBoost is a gradient boosting method that performs well on tabular data with numerous features and is excellent at handling structured data. However, it is not intended for text categorization jobs. The fundamental reason is because XGBoost is based on decision trees, which are unsuitable for dealing with the large dimensionality and sparsity of text data. Text data is often translated into a bag-of-words or TF-IDF representation, resulting in an extremely sparse and high-dimensional matrix. While XGBoost can still be used for text classification problems, it may fail to outperform competing algorithms created expressly for this domain, such as Naive Bayes or deep learning models like recurrent neural networks (RNNs) and transformers.\n",
    "\n",
    "\n",
    "**Naive Bayes:** Naive Bayes is a probabilistic classifier that performs well for binary and multi-class text classification problems, particularly when the dataset is small or medium-sized. It is based on the Bayes theorem and assumes that given the class, the features (words) in the text are conditionally independent. The \"naive\" assumption provides for efficient computing but may not hold true in actuality. As a result, Naive Bayes may occasionally underperform on multiple classification problems, particularly when the number of classes increases, class boundaries get more complex, or the independence condition is violated to a greater extent. Despite its simplicity, Naive Bayes may produce competitive results in a wide range of text categorization applications."
   ]
  },
  {
   "cell_type": "markdown",
   "id": "4fca09bc",
   "metadata": {},
   "source": [
    "## Executive Summary"
   ]
  },
  {
   "cell_type": "markdown",
   "id": "da2bf187",
   "metadata": {},
   "source": [
    "**Introduction:**\n",
    "\n",
    "Natural language processing relies heavily on text classification, which has applications ranging from sentiment analysis to spam detection. In this pipeline, I examine the problem of text message classification depending on the sender. After cleaning, the dataset contains 982 messages from six different senders: mom, dad, grandma, Rasugu, Irynn, and Lee. My goal is to create a model that accurately predicts who sent a text message. To analyze their accuracy in this specific classification task, I examine the performance of two frequently used algorithms, Nave Bayes Classifier and XGBoost.\n",
    "\n",
    "**Method:**\n",
    "\n",
    "- Data Preprocessing: I first preprocess the text data, which includes tokenizing the messages, stemming the words, and removing stop words.\n",
    "\n",
    "- Feature Extraction: I create a Bag of Words representation using the CountVectorizer method from the scikit-learn library for the Naïve Bayes Classifier. For the XGBoost algorithm, I use a Term Frequency-Inverse Document Frequency (TF-IDF) representation of the text data.\n",
    "\n",
    "- Model Implementation and Evaluation:\n",
    "\n",
    "    a. Naïve Bayes Classifier: I implement a Naïve Bayes Classifier and evaluate its performance using a stratified 5-fold cross-validation approach. I then train the final model on the entire training dataset and test its performance on an unseen test dataset.\n",
    "    \n",
    "    b. XGBoost: I train an XGBoost classifier using the TF-IDF representation of the dataset and evaluate its performance on the test dataset.\n",
    "\n",
    "**Conclusion:**\n",
    "\n",
    "My results indicate that, in this specific text classification task, the Naïve Bayes Classifier performs better, achieving an accuracy of 57.36% on the test dataset, compared to the 47.72% accuracy of the XGBoost model. It is important to note that the performance of both models may be improved through further feature engineering, hyperparameter tuning, and exploring alternative text representation techniques. We can also try different models that are more suitable for text classification such as support vector machines (SVM), logistic regression or deep learning models. "
   ]
  },
  {
   "cell_type": "markdown",
   "id": "6c8cf195",
   "metadata": {},
   "source": [
    "## References"
   ]
  },
  {
   "cell_type": "markdown",
   "id": "35a934b2",
   "metadata": {},
   "source": [
    "(n.d.). NLTK :: Natural Language Toolkit. https://www.nltk.org/\n",
    "\n",
    "(2022, February 20). Business News Live, Share Market News - Read Latest Finance News, IPO, Mutual Funds News. https://economictimes.indiatimes.com/defaultinterstitial.cms\n",
    "\n",
    "Burchfiel, A. (2022, May 16). What is NLP (Natural Language Processing) Tokenization? - tokenex. TokenEx. https://www.tokenex.com/blog/ab-what-is-nlp-natural-language-processing-tokenization/\n",
    "\n",
    "Chen, T., & Guestrin, C. (2016, June 10). XGBoost: A Scalable Tree Boosting System. https://arxiv.org/pdf/1603.02754.pdf\n",
    "\n",
    "Hayes, A. (2022, March 1). Bayes' Theorem: What It Is, the Formula, and Examples. Investopedia. https://www.investopedia.com/terms/b/bayes-theorem.asp\n",
    "\n",
    "Introduction to Boosted Trees — xgboost 1.7.5 documentation. (n.d.). XGBoost Documentation. https://xgboost.readthedocs.io/en/stable/tutorials/model.html\n",
    "\n",
    "Matibe, M. (2023, February 17). First Pipeline. CS156: Finding Patterns in Data with Machine Learning.\n",
    "\n",
    "Naive Bayes classifier. (n.d.). Wikipedia. https://en.wikipedia.org/wiki/Naive_Bayes_classifier\n",
    "\n",
    "Starmer, J. (2019, December 16). XGBoost Part 1 (of 4): Regression. YouTube. https://www.youtube.com/watch?v=OtD8wVaFm6E\n"
   ]
  }
 ],
 "metadata": {
  "kernelspec": {
   "display_name": "Python 3",
   "language": "python",
   "name": "python3"
  },
  "language_info": {
   "codemirror_mode": {
    "name": "ipython",
    "version": 3
   },
   "file_extension": ".py",
   "mimetype": "text/x-python",
   "name": "python",
   "nbconvert_exporter": "python",
   "pygments_lexer": "ipython3",
   "version": "3.8.8"
  }
 },
 "nbformat": 4,
 "nbformat_minor": 5
}
